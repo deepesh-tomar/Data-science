{
  "nbformat": 4,
  "nbformat_minor": 0,
  "metadata": {
    "colab": {
      "name": "OneBancAssisment.ipynb",
      "provenance": [],
      "collapsed_sections": [],
      "authorship_tag": "ABX9TyPR/ZZM+iJDC6xNPRqpX2yT",
      "include_colab_link": true
    },
    "kernelspec": {
      "name": "python3",
      "display_name": "Python 3"
    },
    "language_info": {
      "name": "python"
    }
  },
  "cells": [
    {
      "cell_type": "markdown",
      "metadata": {
        "id": "view-in-github",
        "colab_type": "text"
      },
      "source": [
        "<a href=\"https://colab.research.google.com/github/deepesh-tomar/Data-science/blob/master/OneBancAssisment.ipynb\" target=\"_parent\"><img src=\"https://colab.research.google.com/assets/colab-badge.svg\" alt=\"Open In Colab\"/></a>"
      ]
    },
    {
      "cell_type": "code",
      "metadata": {
        "id": "cx4gConaoq2D"
      },
      "source": [
        "import pandas as pd\n",
        "import numpy as np\n",
        "from matplotlib import pyplot as plt\n",
        "%matplotlib inline\n",
        "import matplotlib\n",
        "matplotlib.rcParams[\"figure.figsize\"] = (20,10)\n",
        "import datetime "
      ],
      "execution_count": 1,
      "outputs": []
    },
    {
      "cell_type": "code",
      "metadata": {
        "colab": {
          "base_uri": "https://localhost:8080/",
          "height": 326
        },
        "id": "L_HDzJ4Go4ud",
        "outputId": "96d0160e-847c-43d1-cc88-4ccb3a75b560"
      },
      "source": [
        "df1 = pd.read_csv(\"DataScienceCleanStatement.csv\")\n",
        "df1.head()"
      ],
      "execution_count": 2,
      "outputs": [
        {
          "output_type": "execute_result",
          "data": {
            "text/html": [
              "<div>\n",
              "<style scoped>\n",
              "    .dataframe tbody tr th:only-of-type {\n",
              "        vertical-align: middle;\n",
              "    }\n",
              "\n",
              "    .dataframe tbody tr th {\n",
              "        vertical-align: top;\n",
              "    }\n",
              "\n",
              "    .dataframe thead th {\n",
              "        text-align: right;\n",
              "    }\n",
              "</style>\n",
              "<table border=\"1\" class=\"dataframe\">\n",
              "  <thead>\n",
              "    <tr style=\"text-align: right;\">\n",
              "      <th></th>\n",
              "      <th>Date</th>\n",
              "      <th>Description</th>\n",
              "      <th>InternationTransactionAmount</th>\n",
              "      <th>Category</th>\n",
              "      <th>Amount</th>\n",
              "      <th>TransactionUserName</th>\n",
              "      <th>TransactionType</th>\n",
              "      <th>IsoCurrency</th>\n",
              "      <th>Locality</th>\n",
              "      <th>City</th>\n",
              "      <th>State</th>\n",
              "      <th>Country</th>\n",
              "      <th>Unnamed: 12</th>\n",
              "    </tr>\n",
              "  </thead>\n",
              "  <tbody>\n",
              "    <tr>\n",
              "      <th>0</th>\n",
              "      <td>12/12/2019</td>\n",
              "      <td>THE ROOM               GURGAON                ...</td>\n",
              "      <td>0</td>\n",
              "      <td>Video game</td>\n",
              "      <td>-127</td>\n",
              "      <td>VIBHORE GOYAL</td>\n",
              "      <td>Domestic</td>\n",
              "      <td>INR</td>\n",
              "      <td>Central Park II</td>\n",
              "      <td>Gurugram</td>\n",
              "      <td>Haryana</td>\n",
              "      <td>India</td>\n",
              "      <td>NaN</td>\n",
              "    </tr>\n",
              "    <tr>\n",
              "      <th>1</th>\n",
              "      <td>12/12/2019</td>\n",
              "      <td>CUT AND STYLEGURGAON                          ...</td>\n",
              "      <td>0</td>\n",
              "      <td>Occupation</td>\n",
              "      <td>-499</td>\n",
              "      <td>JASJIT KAUR</td>\n",
              "      <td>Domestic</td>\n",
              "      <td>INR</td>\n",
              "      <td>Sector 4</td>\n",
              "      <td>Gurugram</td>\n",
              "      <td>Haryana</td>\n",
              "      <td>India</td>\n",
              "      <td>NaN</td>\n",
              "    </tr>\n",
              "    <tr>\n",
              "      <th>2</th>\n",
              "      <td>12/12/2019</td>\n",
              "      <td>MUMUSOGURGAON                                 ...</td>\n",
              "      <td>0</td>\n",
              "      <td></td>\n",
              "      <td>-388</td>\n",
              "      <td>JASJIT KAUR</td>\n",
              "      <td>Domestic</td>\n",
              "      <td>INR</td>\n",
              "      <td>Sector 49</td>\n",
              "      <td>Gurugram</td>\n",
              "      <td>Haryana</td>\n",
              "      <td>India</td>\n",
              "      <td>NaN</td>\n",
              "    </tr>\n",
              "    <tr>\n",
              "      <th>3</th>\n",
              "      <td>12/12/2019</td>\n",
              "      <td>THE ROOM               GURGAON                ...</td>\n",
              "      <td>0</td>\n",
              "      <td>Video game</td>\n",
              "      <td>-108</td>\n",
              "      <td>VIBHORE GOYAL</td>\n",
              "      <td>Domestic</td>\n",
              "      <td>INR</td>\n",
              "      <td>Central Park II</td>\n",
              "      <td>Gurugram</td>\n",
              "      <td>Haryana</td>\n",
              "      <td>India</td>\n",
              "      <td>NaN</td>\n",
              "    </tr>\n",
              "    <tr>\n",
              "      <th>4</th>\n",
              "      <td>12/12/2019</td>\n",
              "      <td>THE ROOM               GURGAON                ...</td>\n",
              "      <td>0</td>\n",
              "      <td>Video game</td>\n",
              "      <td>-50</td>\n",
              "      <td>VIBHORE GOYAL</td>\n",
              "      <td>Domestic</td>\n",
              "      <td>INR</td>\n",
              "      <td>Central Park II</td>\n",
              "      <td>Gurugram</td>\n",
              "      <td>Haryana</td>\n",
              "      <td>India</td>\n",
              "      <td>NaN</td>\n",
              "    </tr>\n",
              "  </tbody>\n",
              "</table>\n",
              "</div>"
            ],
            "text/plain": [
              "   Date        ... Unnamed: 12\n",
              "0  12/12/2019  ...         NaN\n",
              "1  12/12/2019  ...         NaN\n",
              "2  12/12/2019  ...         NaN\n",
              "3  12/12/2019  ...         NaN\n",
              "4  12/12/2019  ...         NaN\n",
              "\n",
              "[5 rows x 13 columns]"
            ]
          },
          "metadata": {
            "tags": []
          },
          "execution_count": 2
        }
      ]
    },
    {
      "cell_type": "code",
      "metadata": {
        "colab": {
          "base_uri": "https://localhost:8080/"
        },
        "id": "X2PVv7_dpAQ7",
        "outputId": "26bb65a4-4586-4beb-821e-28544796a453"
      },
      "source": [
        "df1.shape"
      ],
      "execution_count": 3,
      "outputs": [
        {
          "output_type": "execute_result",
          "data": {
            "text/plain": [
              "(1470, 13)"
            ]
          },
          "metadata": {
            "tags": []
          },
          "execution_count": 3
        }
      ]
    },
    {
      "cell_type": "code",
      "metadata": {
        "colab": {
          "base_uri": "https://localhost:8080/",
          "height": 244
        },
        "id": "_hwj2xP7pGwh",
        "outputId": "801fdf02-9777-4b1f-c009-b8282547d201"
      },
      "source": [
        "df1.describe()"
      ],
      "execution_count": 4,
      "outputs": [
        {
          "output_type": "execute_result",
          "data": {
            "text/html": [
              "<div>\n",
              "<style scoped>\n",
              "    .dataframe tbody tr th:only-of-type {\n",
              "        vertical-align: middle;\n",
              "    }\n",
              "\n",
              "    .dataframe tbody tr th {\n",
              "        vertical-align: top;\n",
              "    }\n",
              "\n",
              "    .dataframe thead th {\n",
              "        text-align: right;\n",
              "    }\n",
              "</style>\n",
              "<table border=\"1\" class=\"dataframe\">\n",
              "  <thead>\n",
              "    <tr style=\"text-align: right;\">\n",
              "      <th></th>\n",
              "      <th>Date</th>\n",
              "      <th>Description</th>\n",
              "      <th>InternationTransactionAmount</th>\n",
              "      <th>Category</th>\n",
              "      <th>Amount</th>\n",
              "      <th>TransactionUserName</th>\n",
              "      <th>TransactionType</th>\n",
              "      <th>IsoCurrency</th>\n",
              "      <th>Locality</th>\n",
              "      <th>City</th>\n",
              "      <th>State</th>\n",
              "      <th>Country</th>\n",
              "      <th>Unnamed: 12</th>\n",
              "    </tr>\n",
              "  </thead>\n",
              "  <tbody>\n",
              "    <tr>\n",
              "      <th>count</th>\n",
              "      <td>1470</td>\n",
              "      <td>1470</td>\n",
              "      <td>1470</td>\n",
              "      <td>1470</td>\n",
              "      <td>1470</td>\n",
              "      <td>1470</td>\n",
              "      <td>1470</td>\n",
              "      <td>1470</td>\n",
              "      <td>1302</td>\n",
              "      <td>1270</td>\n",
              "      <td>1245</td>\n",
              "      <td>1307</td>\n",
              "      <td>4</td>\n",
              "    </tr>\n",
              "    <tr>\n",
              "      <th>unique</th>\n",
              "      <td>408</td>\n",
              "      <td>495</td>\n",
              "      <td>35</td>\n",
              "      <td>153</td>\n",
              "      <td>991</td>\n",
              "      <td>7</td>\n",
              "      <td>4</td>\n",
              "      <td>5</td>\n",
              "      <td>186</td>\n",
              "      <td>41</td>\n",
              "      <td>21</td>\n",
              "      <td>7</td>\n",
              "      <td>1</td>\n",
              "    </tr>\n",
              "    <tr>\n",
              "      <th>top</th>\n",
              "      <td>1/8/2019</td>\n",
              "      <td>THE ROOM               GURGAON                ...</td>\n",
              "      <td>0</td>\n",
              "      <td></td>\n",
              "      <td>-50</td>\n",
              "      <td>JASJIT KAUR</td>\n",
              "      <td>Domestic</td>\n",
              "      <td>INR</td>\n",
              "      <td>Central Park II</td>\n",
              "      <td>Gurugram</td>\n",
              "      <td>Haryana</td>\n",
              "      <td>India</td>\n",
              "      <td>India</td>\n",
              "    </tr>\n",
              "    <tr>\n",
              "      <th>freq</th>\n",
              "      <td>13</td>\n",
              "      <td>122</td>\n",
              "      <td>1436</td>\n",
              "      <td>508</td>\n",
              "      <td>25</td>\n",
              "      <td>755</td>\n",
              "      <td>1433</td>\n",
              "      <td>1433</td>\n",
              "      <td>227</td>\n",
              "      <td>930</td>\n",
              "      <td>935</td>\n",
              "      <td>1260</td>\n",
              "      <td>4</td>\n",
              "    </tr>\n",
              "  </tbody>\n",
              "</table>\n",
              "</div>"
            ],
            "text/plain": [
              "       Date        ... Unnamed: 12\n",
              "count        1470  ...           4\n",
              "unique        408  ...           1\n",
              "top      1/8/2019  ...       India\n",
              "freq           13  ...           4\n",
              "\n",
              "[4 rows x 13 columns]"
            ]
          },
          "metadata": {
            "tags": []
          },
          "execution_count": 4
        }
      ]
    },
    {
      "cell_type": "code",
      "metadata": {
        "id": "0QMlvr5Lpc-h"
      },
      "source": [
        "df2 = df1.drop(['Unnamed: 12'], axis = 'columns')"
      ],
      "execution_count": 5,
      "outputs": []
    },
    {
      "cell_type": "code",
      "metadata": {
        "colab": {
          "base_uri": "https://localhost:8080/"
        },
        "id": "L98SKkjppvbu",
        "outputId": "19e6a691-d891-43a3-9d85-c808cead2011"
      },
      "source": [
        "df2.isnull().sum()"
      ],
      "execution_count": 6,
      "outputs": [
        {
          "output_type": "execute_result",
          "data": {
            "text/plain": [
              "Date                                                                     0\n",
              "Description                                                              0\n",
              "InternationTransactionAmount                                             0\n",
              "  Category                                                               0\n",
              "  Amount                                                                 0\n",
              "TransactionUserName                                                      0\n",
              " TransactionType                                                         0\n",
              "IsoCurrency                                                              0\n",
              "Locality                                                               168\n",
              "City                                                                   200\n",
              "State                                                                  225\n",
              "Country                                                                163\n",
              "dtype: int64"
            ]
          },
          "metadata": {
            "tags": []
          },
          "execution_count": 6
        }
      ]
    },
    {
      "cell_type": "code",
      "metadata": {
        "colab": {
          "base_uri": "https://localhost:8080/"
        },
        "id": "-KNq5Wrvqk8s",
        "outputId": "e6b8d0c2-17ac-4387-feda-aa8d199eaac0"
      },
      "source": [
        "df3 = df2.dropna()\n",
        "df3.isnull().sum()"
      ],
      "execution_count": 7,
      "outputs": [
        {
          "output_type": "execute_result",
          "data": {
            "text/plain": [
              "Date                                                                   0\n",
              "Description                                                            0\n",
              "InternationTransactionAmount                                           0\n",
              "  Category                                                             0\n",
              "  Amount                                                               0\n",
              "TransactionUserName                                                    0\n",
              " TransactionType                                                       0\n",
              "IsoCurrency                                                            0\n",
              "Locality                                                               0\n",
              "City                                                                   0\n",
              "State                                                                  0\n",
              "Country                                                                0\n",
              "dtype: int64"
            ]
          },
          "metadata": {
            "tags": []
          },
          "execution_count": 7
        }
      ]
    },
    {
      "cell_type": "code",
      "metadata": {
        "id": "g6ka9FBorV7I"
      },
      "source": [
        "df3.columns = df3.columns.str.replace(' ', '')"
      ],
      "execution_count": 8,
      "outputs": []
    },
    {
      "cell_type": "code",
      "metadata": {
        "colab": {
          "base_uri": "https://localhost:8080/"
        },
        "id": "aNLwUTUnrXhx",
        "outputId": "4ad5aa4d-ad5b-438c-f287-687474c481bc"
      },
      "source": [
        "df3.columns"
      ],
      "execution_count": 9,
      "outputs": [
        {
          "output_type": "execute_result",
          "data": {
            "text/plain": [
              "Index(['Date', 'Description', 'InternationTransactionAmount', 'Category',\n",
              "       'Amount', 'TransactionUserName', 'TransactionType', 'IsoCurrency',\n",
              "       'Locality', 'City', 'State', 'Country'],\n",
              "      dtype='object')"
            ]
          },
          "metadata": {
            "tags": []
          },
          "execution_count": 9
        }
      ]
    },
    {
      "cell_type": "code",
      "metadata": {
        "id": "1E8v9nnitNa7"
      },
      "source": [
        "df4 = df3[['Date', 'TransactionUserName', 'Amount', 'Category', 'Description', 'IsoCurrency', 'InternationTransactionAmount','TransactionType','Locality','City', 'State', 'Country']]"
      ],
      "execution_count": 10,
      "outputs": []
    },
    {
      "cell_type": "code",
      "metadata": {
        "colab": {
          "base_uri": "https://localhost:8080/",
          "height": 694
        },
        "id": "G0hUrw7JurAA",
        "outputId": "c0b0ed33-3b35-4248-eeba-1e037bf0fc70"
      },
      "source": [
        "df4"
      ],
      "execution_count": 11,
      "outputs": [
        {
          "output_type": "execute_result",
          "data": {
            "text/html": [
              "<div>\n",
              "<style scoped>\n",
              "    .dataframe tbody tr th:only-of-type {\n",
              "        vertical-align: middle;\n",
              "    }\n",
              "\n",
              "    .dataframe tbody tr th {\n",
              "        vertical-align: top;\n",
              "    }\n",
              "\n",
              "    .dataframe thead th {\n",
              "        text-align: right;\n",
              "    }\n",
              "</style>\n",
              "<table border=\"1\" class=\"dataframe\">\n",
              "  <thead>\n",
              "    <tr style=\"text-align: right;\">\n",
              "      <th></th>\n",
              "      <th>Date</th>\n",
              "      <th>TransactionUserName</th>\n",
              "      <th>Amount</th>\n",
              "      <th>Category</th>\n",
              "      <th>Description</th>\n",
              "      <th>IsoCurrency</th>\n",
              "      <th>InternationTransactionAmount</th>\n",
              "      <th>TransactionType</th>\n",
              "      <th>Locality</th>\n",
              "      <th>City</th>\n",
              "      <th>State</th>\n",
              "      <th>Country</th>\n",
              "    </tr>\n",
              "  </thead>\n",
              "  <tbody>\n",
              "    <tr>\n",
              "      <th>0</th>\n",
              "      <td>12/12/2019</td>\n",
              "      <td>VIBHORE GOYAL</td>\n",
              "      <td>-127</td>\n",
              "      <td>Video game</td>\n",
              "      <td>THE ROOM               GURGAON                ...</td>\n",
              "      <td>INR</td>\n",
              "      <td>0</td>\n",
              "      <td>Domestic</td>\n",
              "      <td>Central Park II</td>\n",
              "      <td>Gurugram</td>\n",
              "      <td>Haryana</td>\n",
              "      <td>India</td>\n",
              "    </tr>\n",
              "    <tr>\n",
              "      <th>1</th>\n",
              "      <td>12/12/2019</td>\n",
              "      <td>JASJIT KAUR</td>\n",
              "      <td>-499</td>\n",
              "      <td>Occupation</td>\n",
              "      <td>CUT AND STYLEGURGAON                          ...</td>\n",
              "      <td>INR</td>\n",
              "      <td>0</td>\n",
              "      <td>Domestic</td>\n",
              "      <td>Sector 4</td>\n",
              "      <td>Gurugram</td>\n",
              "      <td>Haryana</td>\n",
              "      <td>India</td>\n",
              "    </tr>\n",
              "    <tr>\n",
              "      <th>2</th>\n",
              "      <td>12/12/2019</td>\n",
              "      <td>JASJIT KAUR</td>\n",
              "      <td>-388</td>\n",
              "      <td></td>\n",
              "      <td>MUMUSOGURGAON                                 ...</td>\n",
              "      <td>INR</td>\n",
              "      <td>0</td>\n",
              "      <td>Domestic</td>\n",
              "      <td>Sector 49</td>\n",
              "      <td>Gurugram</td>\n",
              "      <td>Haryana</td>\n",
              "      <td>India</td>\n",
              "    </tr>\n",
              "    <tr>\n",
              "      <th>3</th>\n",
              "      <td>12/12/2019</td>\n",
              "      <td>VIBHORE GOYAL</td>\n",
              "      <td>-108</td>\n",
              "      <td>Video game</td>\n",
              "      <td>THE ROOM               GURGAON                ...</td>\n",
              "      <td>INR</td>\n",
              "      <td>0</td>\n",
              "      <td>Domestic</td>\n",
              "      <td>Central Park II</td>\n",
              "      <td>Gurugram</td>\n",
              "      <td>Haryana</td>\n",
              "      <td>India</td>\n",
              "    </tr>\n",
              "    <tr>\n",
              "      <th>4</th>\n",
              "      <td>12/12/2019</td>\n",
              "      <td>VIBHORE GOYAL</td>\n",
              "      <td>-50</td>\n",
              "      <td>Video game</td>\n",
              "      <td>THE ROOM               GURGAON                ...</td>\n",
              "      <td>INR</td>\n",
              "      <td>0</td>\n",
              "      <td>Domestic</td>\n",
              "      <td>Central Park II</td>\n",
              "      <td>Gurugram</td>\n",
              "      <td>Haryana</td>\n",
              "      <td>India</td>\n",
              "    </tr>\n",
              "    <tr>\n",
              "      <th>...</th>\n",
              "      <td>...</td>\n",
              "      <td>...</td>\n",
              "      <td>...</td>\n",
              "      <td>...</td>\n",
              "      <td>...</td>\n",
              "      <td>...</td>\n",
              "      <td>...</td>\n",
              "      <td>...</td>\n",
              "      <td>...</td>\n",
              "      <td>...</td>\n",
              "      <td>...</td>\n",
              "      <td>...</td>\n",
              "    </tr>\n",
              "    <tr>\n",
              "      <th>1465</th>\n",
              "      <td>6/7/2019</td>\n",
              "      <td>VIBHORE GOYAL</td>\n",
              "      <td>-120</td>\n",
              "      <td>Fast food restaurant company</td>\n",
              "      <td>KFC SEC 47 SOHNA ROAD GGURGAON                ...</td>\n",
              "      <td>INR</td>\n",
              "      <td>0</td>\n",
              "      <td>Domestic</td>\n",
              "      <td>D1 Block</td>\n",
              "      <td>Gurugram</td>\n",
              "      <td>Haryana</td>\n",
              "      <td>India</td>\n",
              "    </tr>\n",
              "    <tr>\n",
              "      <th>1466</th>\n",
              "      <td>7/7/2019</td>\n",
              "      <td>VIBHORE GOYAL</td>\n",
              "      <td>-1798</td>\n",
              "      <td>Airline</td>\n",
              "      <td>SPICEJET LIMITEDGURGAON                       ...</td>\n",
              "      <td>INR</td>\n",
              "      <td>0</td>\n",
              "      <td>Domestic</td>\n",
              "      <td>Phase III</td>\n",
              "      <td>Gurugram</td>\n",
              "      <td>Haryana</td>\n",
              "      <td>India</td>\n",
              "    </tr>\n",
              "    <tr>\n",
              "      <th>1467</th>\n",
              "      <td>7/7/2019</td>\n",
              "      <td>VIBHORE GOYAL</td>\n",
              "      <td>-298</td>\n",
              "      <td>Cafe company</td>\n",
              "      <td>CAFE COFFEE DAYILD TRADE                      ...</td>\n",
              "      <td>INR</td>\n",
              "      <td>0</td>\n",
              "      <td>Domestic</td>\n",
              "      <td>Sohna Road</td>\n",
              "      <td>Gurugram</td>\n",
              "      <td>Haryana</td>\n",
              "      <td>India</td>\n",
              "    </tr>\n",
              "    <tr>\n",
              "      <th>1468</th>\n",
              "      <td>7/7/2019</td>\n",
              "      <td>JASJIT KAUR</td>\n",
              "      <td>-1852</td>\n",
              "      <td>Department store company</td>\n",
              "      <td>SHOPPERS STOP LTD      GURGAON                ...</td>\n",
              "      <td>INR</td>\n",
              "      <td>0</td>\n",
              "      <td>Domestic</td>\n",
              "      <td>Heritage City</td>\n",
              "      <td>Gurugram</td>\n",
              "      <td>Haryana</td>\n",
              "      <td>India</td>\n",
              "    </tr>\n",
              "    <tr>\n",
              "      <th>1469</th>\n",
              "      <td>11/7/2019</td>\n",
              "      <td>VIBHORE GOYAL</td>\n",
              "      <td>-1297</td>\n",
              "      <td>Former President of South Africa</td>\n",
              "      <td>TATA INDICOM-DOCOMOMUMBAI                     ...</td>\n",
              "      <td>INR</td>\n",
              "      <td>0</td>\n",
              "      <td>Domestic</td>\n",
              "      <td>Mahim</td>\n",
              "      <td>Mumbai</td>\n",
              "      <td>Maharashtra</td>\n",
              "      <td>India</td>\n",
              "    </tr>\n",
              "  </tbody>\n",
              "</table>\n",
              "<p>1238 rows × 12 columns</p>\n",
              "</div>"
            ],
            "text/plain": [
              "            Date   TransactionUserName Amount  ...      City        State Country\n",
              "0     12/12/2019         VIBHORE GOYAL   -127  ...  Gurugram      Haryana   India\n",
              "1     12/12/2019           JASJIT KAUR   -499  ...  Gurugram      Haryana   India\n",
              "2     12/12/2019           JASJIT KAUR   -388  ...  Gurugram      Haryana   India\n",
              "3     12/12/2019         VIBHORE GOYAL   -108  ...  Gurugram      Haryana   India\n",
              "4     12/12/2019         VIBHORE GOYAL    -50  ...  Gurugram      Haryana   India\n",
              "...          ...                   ...    ...  ...       ...          ...     ...\n",
              "1465    6/7/2019         VIBHORE GOYAL   -120  ...  Gurugram      Haryana   India\n",
              "1466    7/7/2019         VIBHORE GOYAL  -1798  ...  Gurugram      Haryana   India\n",
              "1467    7/7/2019         VIBHORE GOYAL   -298  ...  Gurugram      Haryana   India\n",
              "1468    7/7/2019           JASJIT KAUR  -1852  ...  Gurugram      Haryana   India\n",
              "1469   11/7/2019         VIBHORE GOYAL  -1297  ...    Mumbai  Maharashtra   India\n",
              "\n",
              "[1238 rows x 12 columns]"
            ]
          },
          "metadata": {
            "tags": []
          },
          "execution_count": 11
        }
      ]
    },
    {
      "cell_type": "code",
      "metadata": {
        "id": "T3ri0FYMy2i8"
      },
      "source": [
        "df4['Date'] = df4['Date'].apply(pd.to_datetime)"
      ],
      "execution_count": 12,
      "outputs": []
    },
    {
      "cell_type": "code",
      "metadata": {
        "colab": {
          "base_uri": "https://localhost:8080/",
          "height": 694
        },
        "id": "GdsjXDXjzCk9",
        "outputId": "09e0e360-0aad-4f7b-ac7c-cf9477334d78"
      },
      "source": [
        "df4"
      ],
      "execution_count": 13,
      "outputs": [
        {
          "output_type": "execute_result",
          "data": {
            "text/html": [
              "<div>\n",
              "<style scoped>\n",
              "    .dataframe tbody tr th:only-of-type {\n",
              "        vertical-align: middle;\n",
              "    }\n",
              "\n",
              "    .dataframe tbody tr th {\n",
              "        vertical-align: top;\n",
              "    }\n",
              "\n",
              "    .dataframe thead th {\n",
              "        text-align: right;\n",
              "    }\n",
              "</style>\n",
              "<table border=\"1\" class=\"dataframe\">\n",
              "  <thead>\n",
              "    <tr style=\"text-align: right;\">\n",
              "      <th></th>\n",
              "      <th>Date</th>\n",
              "      <th>TransactionUserName</th>\n",
              "      <th>Amount</th>\n",
              "      <th>Category</th>\n",
              "      <th>Description</th>\n",
              "      <th>IsoCurrency</th>\n",
              "      <th>InternationTransactionAmount</th>\n",
              "      <th>TransactionType</th>\n",
              "      <th>Locality</th>\n",
              "      <th>City</th>\n",
              "      <th>State</th>\n",
              "      <th>Country</th>\n",
              "    </tr>\n",
              "  </thead>\n",
              "  <tbody>\n",
              "    <tr>\n",
              "      <th>0</th>\n",
              "      <td>2019-12-12</td>\n",
              "      <td>VIBHORE GOYAL</td>\n",
              "      <td>-127</td>\n",
              "      <td>Video game</td>\n",
              "      <td>THE ROOM               GURGAON                ...</td>\n",
              "      <td>INR</td>\n",
              "      <td>0</td>\n",
              "      <td>Domestic</td>\n",
              "      <td>Central Park II</td>\n",
              "      <td>Gurugram</td>\n",
              "      <td>Haryana</td>\n",
              "      <td>India</td>\n",
              "    </tr>\n",
              "    <tr>\n",
              "      <th>1</th>\n",
              "      <td>2019-12-12</td>\n",
              "      <td>JASJIT KAUR</td>\n",
              "      <td>-499</td>\n",
              "      <td>Occupation</td>\n",
              "      <td>CUT AND STYLEGURGAON                          ...</td>\n",
              "      <td>INR</td>\n",
              "      <td>0</td>\n",
              "      <td>Domestic</td>\n",
              "      <td>Sector 4</td>\n",
              "      <td>Gurugram</td>\n",
              "      <td>Haryana</td>\n",
              "      <td>India</td>\n",
              "    </tr>\n",
              "    <tr>\n",
              "      <th>2</th>\n",
              "      <td>2019-12-12</td>\n",
              "      <td>JASJIT KAUR</td>\n",
              "      <td>-388</td>\n",
              "      <td></td>\n",
              "      <td>MUMUSOGURGAON                                 ...</td>\n",
              "      <td>INR</td>\n",
              "      <td>0</td>\n",
              "      <td>Domestic</td>\n",
              "      <td>Sector 49</td>\n",
              "      <td>Gurugram</td>\n",
              "      <td>Haryana</td>\n",
              "      <td>India</td>\n",
              "    </tr>\n",
              "    <tr>\n",
              "      <th>3</th>\n",
              "      <td>2019-12-12</td>\n",
              "      <td>VIBHORE GOYAL</td>\n",
              "      <td>-108</td>\n",
              "      <td>Video game</td>\n",
              "      <td>THE ROOM               GURGAON                ...</td>\n",
              "      <td>INR</td>\n",
              "      <td>0</td>\n",
              "      <td>Domestic</td>\n",
              "      <td>Central Park II</td>\n",
              "      <td>Gurugram</td>\n",
              "      <td>Haryana</td>\n",
              "      <td>India</td>\n",
              "    </tr>\n",
              "    <tr>\n",
              "      <th>4</th>\n",
              "      <td>2019-12-12</td>\n",
              "      <td>VIBHORE GOYAL</td>\n",
              "      <td>-50</td>\n",
              "      <td>Video game</td>\n",
              "      <td>THE ROOM               GURGAON                ...</td>\n",
              "      <td>INR</td>\n",
              "      <td>0</td>\n",
              "      <td>Domestic</td>\n",
              "      <td>Central Park II</td>\n",
              "      <td>Gurugram</td>\n",
              "      <td>Haryana</td>\n",
              "      <td>India</td>\n",
              "    </tr>\n",
              "    <tr>\n",
              "      <th>...</th>\n",
              "      <td>...</td>\n",
              "      <td>...</td>\n",
              "      <td>...</td>\n",
              "      <td>...</td>\n",
              "      <td>...</td>\n",
              "      <td>...</td>\n",
              "      <td>...</td>\n",
              "      <td>...</td>\n",
              "      <td>...</td>\n",
              "      <td>...</td>\n",
              "      <td>...</td>\n",
              "      <td>...</td>\n",
              "    </tr>\n",
              "    <tr>\n",
              "      <th>1465</th>\n",
              "      <td>2019-06-07</td>\n",
              "      <td>VIBHORE GOYAL</td>\n",
              "      <td>-120</td>\n",
              "      <td>Fast food restaurant company</td>\n",
              "      <td>KFC SEC 47 SOHNA ROAD GGURGAON                ...</td>\n",
              "      <td>INR</td>\n",
              "      <td>0</td>\n",
              "      <td>Domestic</td>\n",
              "      <td>D1 Block</td>\n",
              "      <td>Gurugram</td>\n",
              "      <td>Haryana</td>\n",
              "      <td>India</td>\n",
              "    </tr>\n",
              "    <tr>\n",
              "      <th>1466</th>\n",
              "      <td>2019-07-07</td>\n",
              "      <td>VIBHORE GOYAL</td>\n",
              "      <td>-1798</td>\n",
              "      <td>Airline</td>\n",
              "      <td>SPICEJET LIMITEDGURGAON                       ...</td>\n",
              "      <td>INR</td>\n",
              "      <td>0</td>\n",
              "      <td>Domestic</td>\n",
              "      <td>Phase III</td>\n",
              "      <td>Gurugram</td>\n",
              "      <td>Haryana</td>\n",
              "      <td>India</td>\n",
              "    </tr>\n",
              "    <tr>\n",
              "      <th>1467</th>\n",
              "      <td>2019-07-07</td>\n",
              "      <td>VIBHORE GOYAL</td>\n",
              "      <td>-298</td>\n",
              "      <td>Cafe company</td>\n",
              "      <td>CAFE COFFEE DAYILD TRADE                      ...</td>\n",
              "      <td>INR</td>\n",
              "      <td>0</td>\n",
              "      <td>Domestic</td>\n",
              "      <td>Sohna Road</td>\n",
              "      <td>Gurugram</td>\n",
              "      <td>Haryana</td>\n",
              "      <td>India</td>\n",
              "    </tr>\n",
              "    <tr>\n",
              "      <th>1468</th>\n",
              "      <td>2019-07-07</td>\n",
              "      <td>JASJIT KAUR</td>\n",
              "      <td>-1852</td>\n",
              "      <td>Department store company</td>\n",
              "      <td>SHOPPERS STOP LTD      GURGAON                ...</td>\n",
              "      <td>INR</td>\n",
              "      <td>0</td>\n",
              "      <td>Domestic</td>\n",
              "      <td>Heritage City</td>\n",
              "      <td>Gurugram</td>\n",
              "      <td>Haryana</td>\n",
              "      <td>India</td>\n",
              "    </tr>\n",
              "    <tr>\n",
              "      <th>1469</th>\n",
              "      <td>2019-11-07</td>\n",
              "      <td>VIBHORE GOYAL</td>\n",
              "      <td>-1297</td>\n",
              "      <td>Former President of South Africa</td>\n",
              "      <td>TATA INDICOM-DOCOMOMUMBAI                     ...</td>\n",
              "      <td>INR</td>\n",
              "      <td>0</td>\n",
              "      <td>Domestic</td>\n",
              "      <td>Mahim</td>\n",
              "      <td>Mumbai</td>\n",
              "      <td>Maharashtra</td>\n",
              "      <td>India</td>\n",
              "    </tr>\n",
              "  </tbody>\n",
              "</table>\n",
              "<p>1238 rows × 12 columns</p>\n",
              "</div>"
            ],
            "text/plain": [
              "           Date   TransactionUserName Amount  ...      City        State Country\n",
              "0    2019-12-12         VIBHORE GOYAL   -127  ...  Gurugram      Haryana   India\n",
              "1    2019-12-12           JASJIT KAUR   -499  ...  Gurugram      Haryana   India\n",
              "2    2019-12-12           JASJIT KAUR   -388  ...  Gurugram      Haryana   India\n",
              "3    2019-12-12         VIBHORE GOYAL   -108  ...  Gurugram      Haryana   India\n",
              "4    2019-12-12         VIBHORE GOYAL    -50  ...  Gurugram      Haryana   India\n",
              "...         ...                   ...    ...  ...       ...          ...     ...\n",
              "1465 2019-06-07         VIBHORE GOYAL   -120  ...  Gurugram      Haryana   India\n",
              "1466 2019-07-07         VIBHORE GOYAL  -1798  ...  Gurugram      Haryana   India\n",
              "1467 2019-07-07         VIBHORE GOYAL   -298  ...  Gurugram      Haryana   India\n",
              "1468 2019-07-07           JASJIT KAUR  -1852  ...  Gurugram      Haryana   India\n",
              "1469 2019-11-07         VIBHORE GOYAL  -1297  ...    Mumbai  Maharashtra   India\n",
              "\n",
              "[1238 rows x 12 columns]"
            ]
          },
          "metadata": {
            "tags": []
          },
          "execution_count": 13
        }
      ]
    },
    {
      "cell_type": "code",
      "metadata": {
        "id": "jLk5Tn9hzDht"
      },
      "source": [
        "df4.sort_values(by=['Date'], inplace=True, ascending=False)"
      ],
      "execution_count": 14,
      "outputs": []
    },
    {
      "cell_type": "code",
      "metadata": {
        "colab": {
          "base_uri": "https://localhost:8080/",
          "height": 779
        },
        "id": "QuySqFHq0dVD",
        "outputId": "d5a5f855-1301-42df-97c8-8cac12db82bf"
      },
      "source": [
        "df4"
      ],
      "execution_count": 15,
      "outputs": [
        {
          "output_type": "execute_result",
          "data": {
            "text/html": [
              "<div>\n",
              "<style scoped>\n",
              "    .dataframe tbody tr th:only-of-type {\n",
              "        vertical-align: middle;\n",
              "    }\n",
              "\n",
              "    .dataframe tbody tr th {\n",
              "        vertical-align: top;\n",
              "    }\n",
              "\n",
              "    .dataframe thead th {\n",
              "        text-align: right;\n",
              "    }\n",
              "</style>\n",
              "<table border=\"1\" class=\"dataframe\">\n",
              "  <thead>\n",
              "    <tr style=\"text-align: right;\">\n",
              "      <th></th>\n",
              "      <th>Date</th>\n",
              "      <th>TransactionUserName</th>\n",
              "      <th>Amount</th>\n",
              "      <th>Category</th>\n",
              "      <th>Description</th>\n",
              "      <th>IsoCurrency</th>\n",
              "      <th>InternationTransactionAmount</th>\n",
              "      <th>TransactionType</th>\n",
              "      <th>Locality</th>\n",
              "      <th>City</th>\n",
              "      <th>State</th>\n",
              "      <th>Country</th>\n",
              "    </tr>\n",
              "  </thead>\n",
              "  <tbody>\n",
              "    <tr>\n",
              "      <th>417</th>\n",
              "      <td>2020-12-02</td>\n",
              "      <td>VIBHORE GOYAL</td>\n",
              "      <td>-107.68</td>\n",
              "      <td>Online food ordering company</td>\n",
              "      <td>UBER INR                 MUMBAI               ...</td>\n",
              "      <td>INR</td>\n",
              "      <td>0</td>\n",
              "      <td>Domestic</td>\n",
              "      <td>Mumbai</td>\n",
              "      <td>Mumbai</td>\n",
              "      <td>Maharashtra</td>\n",
              "      <td>India</td>\n",
              "    </tr>\n",
              "    <tr>\n",
              "      <th>421</th>\n",
              "      <td>2020-12-02</td>\n",
              "      <td>INDU GOYAL</td>\n",
              "      <td>-50</td>\n",
              "      <td>Video game</td>\n",
              "      <td>THE ROOM               GURGAON                ...</td>\n",
              "      <td>INR</td>\n",
              "      <td>0</td>\n",
              "      <td>Domestic</td>\n",
              "      <td>Central Park II</td>\n",
              "      <td>Gurugram</td>\n",
              "      <td>Haryana</td>\n",
              "      <td>India</td>\n",
              "    </tr>\n",
              "    <tr>\n",
              "      <th>420</th>\n",
              "      <td>2020-12-02</td>\n",
              "      <td>JASJIT KAUR</td>\n",
              "      <td>-1326.97</td>\n",
              "      <td>Hotel brand</td>\n",
              "      <td>HILTON GARDEN INN GURGGURGAON                 ...</td>\n",
              "      <td>INR</td>\n",
              "      <td>0</td>\n",
              "      <td>Domestic</td>\n",
              "      <td>Sector 50</td>\n",
              "      <td>Gurugram</td>\n",
              "      <td>Haryana</td>\n",
              "      <td>India</td>\n",
              "    </tr>\n",
              "    <tr>\n",
              "      <th>419</th>\n",
              "      <td>2020-12-02</td>\n",
              "      <td>JASJIT KAUR</td>\n",
              "      <td>-953</td>\n",
              "      <td></td>\n",
              "      <td>Planet NeedsGURGAON                           ...</td>\n",
              "      <td>INR</td>\n",
              "      <td>0</td>\n",
              "      <td>Domestic</td>\n",
              "      <td>Sector 42</td>\n",
              "      <td>Gurugram</td>\n",
              "      <td>Haryana</td>\n",
              "      <td>India</td>\n",
              "    </tr>\n",
              "    <tr>\n",
              "      <th>418</th>\n",
              "      <td>2020-12-02</td>\n",
              "      <td>VIBHORE GOYAL</td>\n",
              "      <td>-199</td>\n",
              "      <td>Production company</td>\n",
              "      <td>NETFLIX ENTERTAINMENT SGURGAON                ...</td>\n",
              "      <td>INR</td>\n",
              "      <td>0</td>\n",
              "      <td>Domestic</td>\n",
              "      <td>Gurgaon</td>\n",
              "      <td>Gurugram</td>\n",
              "      <td>Haryana</td>\n",
              "      <td>India</td>\n",
              "    </tr>\n",
              "    <tr>\n",
              "      <th>...</th>\n",
              "      <td>...</td>\n",
              "      <td>...</td>\n",
              "      <td>...</td>\n",
              "      <td>...</td>\n",
              "      <td>...</td>\n",
              "      <td>...</td>\n",
              "      <td>...</td>\n",
              "      <td>...</td>\n",
              "      <td>...</td>\n",
              "      <td>...</td>\n",
              "      <td>...</td>\n",
              "      <td>...</td>\n",
              "    </tr>\n",
              "    <tr>\n",
              "      <th>174</th>\n",
              "      <td>2019-01-02</td>\n",
              "      <td>VIBHORE GOYAL</td>\n",
              "      <td>-2000</td>\n",
              "      <td>Cinema company</td>\n",
              "      <td>CARNIVAL FILMS PVT LTDGURGAON                 ...</td>\n",
              "      <td>INR</td>\n",
              "      <td>0</td>\n",
              "      <td>Domestic</td>\n",
              "      <td>Gurgaon</td>\n",
              "      <td>Gurugram</td>\n",
              "      <td>Haryana</td>\n",
              "      <td>India</td>\n",
              "    </tr>\n",
              "    <tr>\n",
              "      <th>173</th>\n",
              "      <td>2019-01-02</td>\n",
              "      <td>VIBHORE GOYAL</td>\n",
              "      <td>-265</td>\n",
              "      <td>Fast food restaurant company</td>\n",
              "      <td>KFC SEC 47 SOHNA ROAD GGURGAON                ...</td>\n",
              "      <td>INR</td>\n",
              "      <td>0</td>\n",
              "      <td>Domestic</td>\n",
              "      <td>D1 Block</td>\n",
              "      <td>Gurugram</td>\n",
              "      <td>Haryana</td>\n",
              "      <td>India</td>\n",
              "    </tr>\n",
              "    <tr>\n",
              "      <th>171</th>\n",
              "      <td>2019-01-02</td>\n",
              "      <td>VIBHORE GOYAL</td>\n",
              "      <td>-330</td>\n",
              "      <td>Retail company</td>\n",
              "      <td>S AND S BEAUTY CAREGURGAON                    ...</td>\n",
              "      <td>INR</td>\n",
              "      <td>0</td>\n",
              "      <td>Domestic</td>\n",
              "      <td>Mount Vernon</td>\n",
              "      <td>Alexandria</td>\n",
              "      <td>Virginia</td>\n",
              "      <td>United States</td>\n",
              "    </tr>\n",
              "    <tr>\n",
              "      <th>170</th>\n",
              "      <td>2019-01-02</td>\n",
              "      <td>JASJIT KAUR</td>\n",
              "      <td>-1820</td>\n",
              "      <td>Occupation</td>\n",
              "      <td>CUT AND STYLE          GURGAON                ...</td>\n",
              "      <td>INR</td>\n",
              "      <td>0</td>\n",
              "      <td>Domestic</td>\n",
              "      <td>Sector 4</td>\n",
              "      <td>Gurugram</td>\n",
              "      <td>Haryana</td>\n",
              "      <td>India</td>\n",
              "    </tr>\n",
              "    <tr>\n",
              "      <th>172</th>\n",
              "      <td>2019-01-02</td>\n",
              "      <td>VIBHORE GOYAL</td>\n",
              "      <td>-48635</td>\n",
              "      <td>Company</td>\n",
              "      <td>MAKEMYTRIP INDIA PVT LTNEW DELHI              ...</td>\n",
              "      <td>INR</td>\n",
              "      <td>0</td>\n",
              "      <td>Domestic</td>\n",
              "      <td>Block 11</td>\n",
              "      <td>New Delhi</td>\n",
              "      <td>Delhi</td>\n",
              "      <td>India</td>\n",
              "    </tr>\n",
              "  </tbody>\n",
              "</table>\n",
              "<p>1238 rows × 12 columns</p>\n",
              "</div>"
            ],
            "text/plain": [
              "          Date   TransactionUserName  ...        State        Country\n",
              "417 2020-12-02         VIBHORE GOYAL  ...  Maharashtra          India\n",
              "421 2020-12-02            INDU GOYAL  ...      Haryana          India\n",
              "420 2020-12-02           JASJIT KAUR  ...      Haryana          India\n",
              "419 2020-12-02           JASJIT KAUR  ...      Haryana          India\n",
              "418 2020-12-02         VIBHORE GOYAL  ...      Haryana          India\n",
              "..         ...                   ...  ...          ...            ...\n",
              "174 2019-01-02         VIBHORE GOYAL  ...      Haryana          India\n",
              "173 2019-01-02         VIBHORE GOYAL  ...      Haryana          India\n",
              "171 2019-01-02         VIBHORE GOYAL  ...     Virginia  United States\n",
              "170 2019-01-02           JASJIT KAUR  ...      Haryana          India\n",
              "172 2019-01-02         VIBHORE GOYAL  ...        Delhi          India\n",
              "\n",
              "[1238 rows x 12 columns]"
            ]
          },
          "metadata": {
            "tags": []
          },
          "execution_count": 15
        }
      ]
    },
    {
      "cell_type": "code",
      "metadata": {
        "id": "bxVTYrrg7gTd"
      },
      "source": [
        "df4['TransactionType'] = df4['TransactionType'].str.replace(\" \",\"\")"
      ],
      "execution_count": 16,
      "outputs": []
    },
    {
      "cell_type": "code",
      "metadata": {
        "colab": {
          "base_uri": "https://localhost:8080/"
        },
        "id": "l_cIGWvR3sKF",
        "outputId": "430ce879-70c3-47ba-839f-aec3c86e91dd"
      },
      "source": [
        "df4.TransactionType.unique()"
      ],
      "execution_count": 17,
      "outputs": [
        {
          "output_type": "execute_result",
          "data": {
            "text/plain": [
              "array(['Domestic', 'JASJITKAUR', 'International', 'VIBHOREGOYAL'],\n",
              "      dtype=object)"
            ]
          },
          "metadata": {
            "tags": []
          },
          "execution_count": 17
        }
      ]
    },
    {
      "cell_type": "code",
      "metadata": {
        "id": "fFxM8jmuHVTw"
      },
      "source": [
        "index_names = df4[ df4['TransactionType'] == 'JASJITKAUR' ].index\n",
        "df4.drop(index_names, inplace = True)\n",
        "index_names = df4[ df4['TransactionType'] == 'VIBHOREGOYAL' ].index\n",
        "df4.drop(index_names, inplace = True)"
      ],
      "execution_count": 18,
      "outputs": []
    },
    {
      "cell_type": "code",
      "metadata": {
        "colab": {
          "base_uri": "https://localhost:8080/"
        },
        "id": "0G4EB5oi-f_N",
        "outputId": "f90e991c-5068-43cb-bdb5-9a8d6bbaa0cb"
      },
      "source": [
        "df4['TransactionUserName'] = df4['TransactionUserName'].str.replace(\" \",\"\")\n",
        "df4.TransactionUserName.unique()"
      ],
      "execution_count": 19,
      "outputs": [
        {
          "output_type": "execute_result",
          "data": {
            "text/plain": [
              "array(['VIBHOREGOYAL', 'INDUGOYAL', 'JASJITKAUR'], dtype=object)"
            ]
          },
          "metadata": {
            "tags": []
          },
          "execution_count": 19
        }
      ]
    },
    {
      "cell_type": "code",
      "metadata": {
        "id": "zkn-y0pIIwKV"
      },
      "source": [
        "index_names = df4[ df4['TransactionType'] == '-2391' ].index\n",
        "df4.drop(index_names, inplace = True)"
      ],
      "execution_count": 20,
      "outputs": []
    },
    {
      "cell_type": "code",
      "metadata": {
        "colab": {
          "base_uri": "https://localhost:8080/"
        },
        "id": "cAHbNeD86VO_",
        "outputId": "3d6fb656-be5a-43d2-b196-27842191d3fc"
      },
      "source": [
        "df4.shape"
      ],
      "execution_count": 21,
      "outputs": [
        {
          "output_type": "execute_result",
          "data": {
            "text/plain": [
              "(1235, 12)"
            ]
          },
          "metadata": {
            "tags": []
          },
          "execution_count": 21
        }
      ]
    },
    {
      "cell_type": "code",
      "metadata": {
        "colab": {
          "base_uri": "https://localhost:8080/"
        },
        "id": "bKy_gzv_9Yxz",
        "outputId": "f84e1dc9-1190-4591-a138-1030c732664a"
      },
      "source": [
        "df4.Category = df4.Category.apply(lambda x: x.strip())\n",
        "Category_stats = df4.groupby('Category')['Category'].agg('count').sort_values(ascending=False)\n",
        "Category_stats"
      ],
      "execution_count": 22,
      "outputs": [
        {
          "output_type": "execute_result",
          "data": {
            "text/plain": [
              "Category\n",
              "                           388\n",
              "Video game                 123\n",
              "Cafe company               109\n",
              "Company                     44\n",
              "Hotel brand                 40\n",
              "                          ... \n",
              "Indian television actor      1\n",
              "Indian union territory       1\n",
              "Insurance company            1\n",
              "Medication                   1\n",
              "Federal agency               1\n",
              "Name: Category, Length: 133, dtype: int64"
            ]
          },
          "metadata": {
            "tags": []
          },
          "execution_count": 22
        }
      ]
    },
    {
      "cell_type": "code",
      "metadata": {
        "colab": {
          "base_uri": "https://localhost:8080/"
        },
        "id": "n-boIHxpMW_X",
        "outputId": "a1c6bd40-c0d4-48b3-9fe6-ec67c4ad20d0"
      },
      "source": [
        "Category_stats_less_than_10 = Category_stats[Category_stats<=10]\n",
        "Category_stats_less_than_10"
      ],
      "execution_count": 23,
      "outputs": [
        {
          "output_type": "execute_result",
          "data": {
            "text/plain": [
              "Category\n",
              "Electronics retail company    9\n",
              "American minister             7\n",
              "City in New York              7\n",
              "Clothing retail company       7\n",
              "Indian actress                7\n",
              "                             ..\n",
              "Indian television actor       1\n",
              "Indian union territory        1\n",
              "Insurance company             1\n",
              "Medication                    1\n",
              "Federal agency                1\n",
              "Name: Category, Length: 113, dtype: int64"
            ]
          },
          "metadata": {
            "tags": []
          },
          "execution_count": 23
        }
      ]
    },
    {
      "cell_type": "code",
      "metadata": {
        "colab": {
          "base_uri": "https://localhost:8080/"
        },
        "id": "XftkFVRQaOCb",
        "outputId": "a68c5197-2808-46a3-d8e5-9f3460fa4d44"
      },
      "source": [
        "Category_stats_greater_than_10 = Category_stats[Category_stats>=10]\n",
        "Category_stats_greater_than_10"
      ],
      "execution_count": 24,
      "outputs": [
        {
          "output_type": "execute_result",
          "data": {
            "text/plain": [
              "Category\n",
              "                                388\n",
              "Video game                      123\n",
              "Cafe company                    109\n",
              "Company                          44\n",
              "Hotel brand                      40\n",
              "E-commerce company               38\n",
              "Online food ordering company     28\n",
              "Retail company                   24\n",
              "Cinema company                   24\n",
              "Restaurant company               23\n",
              "Occupation                       22\n",
              "Event                            17\n",
              "Telecommunications company       17\n",
              "Massif in Nepal                  17\n",
              "City in California               15\n",
              "Railway company                  14\n",
              "Fast food restaurant company     13\n",
              "Novel by Tamsyn Muir             12\n",
              "American television program      11\n",
              "Book by Eric Carle               11\n",
              "Name: Category, dtype: int64"
            ]
          },
          "metadata": {
            "tags": []
          },
          "execution_count": 24
        }
      ]
    },
    {
      "cell_type": "code",
      "metadata": {
        "colab": {
          "base_uri": "https://localhost:8080/"
        },
        "id": "fD8AfMZNahQC",
        "outputId": "1b81fb9b-a4e3-4cc1-bbf8-b1f2f82e4558"
      },
      "source": [
        "df4.Category = df4.Category.apply(lambda x : 'other' if x in Category_stats_less_than_10 else x)\n",
        "len(df4.Category.unique())"
      ],
      "execution_count": 25,
      "outputs": [
        {
          "output_type": "execute_result",
          "data": {
            "text/plain": [
              "21"
            ]
          },
          "metadata": {
            "tags": []
          },
          "execution_count": 25
        }
      ]
    },
    {
      "cell_type": "code",
      "metadata": {
        "colab": {
          "base_uri": "https://localhost:8080/"
        },
        "id": "4mBmaotWf4d2",
        "outputId": "4d1c37d0-c96d-4831-b105-9443da0331cf"
      },
      "source": [
        "df4.Category.unique()"
      ],
      "execution_count": 26,
      "outputs": [
        {
          "output_type": "execute_result",
          "data": {
            "text/plain": [
              "array(['Online food ordering company', 'Video game', 'Hotel brand', '',\n",
              "       'other', 'Restaurant company', 'Fast food restaurant company',\n",
              "       'Occupation', 'Company', 'E-commerce company',\n",
              "       'American television program', 'Cafe company', 'Retail company',\n",
              "       'City in California', 'Massif in Nepal', 'Book by Eric Carle',\n",
              "       'Cinema company', 'Telecommunications company',\n",
              "       'Novel by Tamsyn Muir', 'Event', 'Railway company'], dtype=object)"
            ]
          },
          "metadata": {
            "tags": []
          },
          "execution_count": 26
        }
      ]
    },
    {
      "cell_type": "code",
      "metadata": {
        "colab": {
          "base_uri": "https://localhost:8080/"
        },
        "id": "AQD1pOE7gDXh",
        "outputId": "37eb21fc-c57a-4d11-e012-73822cb1916a"
      },
      "source": [
        "len(df4.Description.unique())"
      ],
      "execution_count": 27,
      "outputs": [
        {
          "output_type": "execute_result",
          "data": {
            "text/plain": [
              "360"
            ]
          },
          "metadata": {
            "tags": []
          },
          "execution_count": 27
        }
      ]
    },
    {
      "cell_type": "code",
      "metadata": {
        "id": "zysKXWTChway"
      },
      "source": [
        "df4.sort_values(by=['Category'], inplace=True, ascending=True)"
      ],
      "execution_count": 28,
      "outputs": []
    },
    {
      "cell_type": "code",
      "metadata": {
        "colab": {
          "base_uri": "https://localhost:8080/",
          "height": 309
        },
        "id": "sJ8N4ekutgep",
        "outputId": "8c25b99f-736c-457f-8724-45abd07eecb4"
      },
      "source": [
        "df4.head()"
      ],
      "execution_count": 32,
      "outputs": [
        {
          "output_type": "execute_result",
          "data": {
            "text/html": [
              "<div>\n",
              "<style scoped>\n",
              "    .dataframe tbody tr th:only-of-type {\n",
              "        vertical-align: middle;\n",
              "    }\n",
              "\n",
              "    .dataframe tbody tr th {\n",
              "        vertical-align: top;\n",
              "    }\n",
              "\n",
              "    .dataframe thead th {\n",
              "        text-align: right;\n",
              "    }\n",
              "</style>\n",
              "<table border=\"1\" class=\"dataframe\">\n",
              "  <thead>\n",
              "    <tr style=\"text-align: right;\">\n",
              "      <th></th>\n",
              "      <th>Date</th>\n",
              "      <th>TransactionUserName</th>\n",
              "      <th>Amount</th>\n",
              "      <th>Category</th>\n",
              "      <th>Description</th>\n",
              "      <th>IsoCurrency</th>\n",
              "      <th>InternationTransactionAmount</th>\n",
              "      <th>TransactionType</th>\n",
              "      <th>Locality</th>\n",
              "      <th>City</th>\n",
              "      <th>State</th>\n",
              "      <th>Country</th>\n",
              "    </tr>\n",
              "  </thead>\n",
              "  <tbody>\n",
              "    <tr>\n",
              "      <th>1461</th>\n",
              "      <td>2019-06-07</td>\n",
              "      <td>JASJITKAUR</td>\n",
              "      <td>-2499</td>\n",
              "      <td></td>\n",
              "      <td>NAIL SPA TRAINERS AND DGURGAON                ...</td>\n",
              "      <td>INR</td>\n",
              "      <td>0</td>\n",
              "      <td>Domestic</td>\n",
              "      <td>New Colony</td>\n",
              "      <td>Gurugram</td>\n",
              "      <td>Haryana</td>\n",
              "      <td>India</td>\n",
              "    </tr>\n",
              "    <tr>\n",
              "      <th>1408</th>\n",
              "      <td>2019-06-18</td>\n",
              "      <td>JASJITKAUR</td>\n",
              "      <td>-5849</td>\n",
              "      <td></td>\n",
              "      <td>CLARKSGURGAON                                 ...</td>\n",
              "      <td>INR</td>\n",
              "      <td>0</td>\n",
              "      <td>Domestic</td>\n",
              "      <td>DLF Phase 2</td>\n",
              "      <td>Gurugram</td>\n",
              "      <td>Haryana</td>\n",
              "      <td>India</td>\n",
              "    </tr>\n",
              "    <tr>\n",
              "      <th>214</th>\n",
              "      <td>2020-01-14</td>\n",
              "      <td>JASJITKAUR</td>\n",
              "      <td>-50</td>\n",
              "      <td></td>\n",
              "      <td>THE ROOMGURGAON                               ...</td>\n",
              "      <td>INR</td>\n",
              "      <td>0</td>\n",
              "      <td>Domestic</td>\n",
              "      <td>Central Park II</td>\n",
              "      <td>Gurugram</td>\n",
              "      <td>Haryana</td>\n",
              "      <td>India</td>\n",
              "    </tr>\n",
              "    <tr>\n",
              "      <th>912</th>\n",
              "      <td>2019-09-20</td>\n",
              "      <td>JASJITKAUR</td>\n",
              "      <td>-103.96</td>\n",
              "      <td></td>\n",
              "      <td>HALDIRAMGURGAON                               ...</td>\n",
              "      <td>INR</td>\n",
              "      <td>0</td>\n",
              "      <td>Domestic</td>\n",
              "      <td>Saraswati Vihar</td>\n",
              "      <td>Gurugram</td>\n",
              "      <td>Haryana</td>\n",
              "      <td>India</td>\n",
              "    </tr>\n",
              "    <tr>\n",
              "      <th>764</th>\n",
              "      <td>2019-06-08</td>\n",
              "      <td>JASJITKAUR</td>\n",
              "      <td>-131</td>\n",
              "      <td></td>\n",
              "      <td>THE ROOMGURGAON                               ...</td>\n",
              "      <td>INR</td>\n",
              "      <td>0</td>\n",
              "      <td>Domestic</td>\n",
              "      <td>Central Park II</td>\n",
              "      <td>Gurugram</td>\n",
              "      <td>Haryana</td>\n",
              "      <td>India</td>\n",
              "    </tr>\n",
              "  </tbody>\n",
              "</table>\n",
              "</div>"
            ],
            "text/plain": [
              "           Date TransactionUserName   Amount  ...      City    State Country\n",
              "1461 2019-06-07          JASJITKAUR    -2499  ...  Gurugram  Haryana   India\n",
              "1408 2019-06-18          JASJITKAUR    -5849  ...  Gurugram  Haryana   India\n",
              "214  2020-01-14          JASJITKAUR      -50  ...  Gurugram  Haryana   India\n",
              "912  2019-09-20          JASJITKAUR  -103.96  ...  Gurugram  Haryana   India\n",
              "764  2019-06-08          JASJITKAUR     -131  ...  Gurugram  Haryana   India\n",
              "\n",
              "[5 rows x 12 columns]"
            ]
          },
          "metadata": {
            "tags": []
          },
          "execution_count": 32
        }
      ]
    },
    {
      "cell_type": "code",
      "metadata": {
        "id": "X__ieNKlUzta"
      },
      "source": [
        "df5 = df4\n",
        "df5['New_category'] = 'Null'"
      ],
      "execution_count": 34,
      "outputs": []
    },
    {
      "cell_type": "code",
      "metadata": {
        "colab": {
          "base_uri": "https://localhost:8080/",
          "height": 309
        },
        "id": "KGPQL4MpVvHj",
        "outputId": "9dbb7cd2-3df6-44ea-9fc7-2763f99d4ea1"
      },
      "source": [
        "df5.head()"
      ],
      "execution_count": 35,
      "outputs": [
        {
          "output_type": "execute_result",
          "data": {
            "text/html": [
              "<div>\n",
              "<style scoped>\n",
              "    .dataframe tbody tr th:only-of-type {\n",
              "        vertical-align: middle;\n",
              "    }\n",
              "\n",
              "    .dataframe tbody tr th {\n",
              "        vertical-align: top;\n",
              "    }\n",
              "\n",
              "    .dataframe thead th {\n",
              "        text-align: right;\n",
              "    }\n",
              "</style>\n",
              "<table border=\"1\" class=\"dataframe\">\n",
              "  <thead>\n",
              "    <tr style=\"text-align: right;\">\n",
              "      <th></th>\n",
              "      <th>Date</th>\n",
              "      <th>TransactionUserName</th>\n",
              "      <th>Amount</th>\n",
              "      <th>Category</th>\n",
              "      <th>Description</th>\n",
              "      <th>IsoCurrency</th>\n",
              "      <th>InternationTransactionAmount</th>\n",
              "      <th>TransactionType</th>\n",
              "      <th>Locality</th>\n",
              "      <th>City</th>\n",
              "      <th>State</th>\n",
              "      <th>Country</th>\n",
              "      <th>New_category</th>\n",
              "    </tr>\n",
              "  </thead>\n",
              "  <tbody>\n",
              "    <tr>\n",
              "      <th>1461</th>\n",
              "      <td>2019-06-07</td>\n",
              "      <td>JASJITKAUR</td>\n",
              "      <td>-2499</td>\n",
              "      <td></td>\n",
              "      <td>NAIL SPA TRAINERS AND DGURGAON                ...</td>\n",
              "      <td>INR</td>\n",
              "      <td>0</td>\n",
              "      <td>Domestic</td>\n",
              "      <td>New Colony</td>\n",
              "      <td>Gurugram</td>\n",
              "      <td>Haryana</td>\n",
              "      <td>India</td>\n",
              "      <td>Null</td>\n",
              "    </tr>\n",
              "    <tr>\n",
              "      <th>1408</th>\n",
              "      <td>2019-06-18</td>\n",
              "      <td>JASJITKAUR</td>\n",
              "      <td>-5849</td>\n",
              "      <td></td>\n",
              "      <td>CLARKSGURGAON                                 ...</td>\n",
              "      <td>INR</td>\n",
              "      <td>0</td>\n",
              "      <td>Domestic</td>\n",
              "      <td>DLF Phase 2</td>\n",
              "      <td>Gurugram</td>\n",
              "      <td>Haryana</td>\n",
              "      <td>India</td>\n",
              "      <td>Null</td>\n",
              "    </tr>\n",
              "    <tr>\n",
              "      <th>214</th>\n",
              "      <td>2020-01-14</td>\n",
              "      <td>JASJITKAUR</td>\n",
              "      <td>-50</td>\n",
              "      <td></td>\n",
              "      <td>THE ROOMGURGAON                               ...</td>\n",
              "      <td>INR</td>\n",
              "      <td>0</td>\n",
              "      <td>Domestic</td>\n",
              "      <td>Central Park II</td>\n",
              "      <td>Gurugram</td>\n",
              "      <td>Haryana</td>\n",
              "      <td>India</td>\n",
              "      <td>Null</td>\n",
              "    </tr>\n",
              "    <tr>\n",
              "      <th>912</th>\n",
              "      <td>2019-09-20</td>\n",
              "      <td>JASJITKAUR</td>\n",
              "      <td>-103.96</td>\n",
              "      <td></td>\n",
              "      <td>HALDIRAMGURGAON                               ...</td>\n",
              "      <td>INR</td>\n",
              "      <td>0</td>\n",
              "      <td>Domestic</td>\n",
              "      <td>Saraswati Vihar</td>\n",
              "      <td>Gurugram</td>\n",
              "      <td>Haryana</td>\n",
              "      <td>India</td>\n",
              "      <td>Null</td>\n",
              "    </tr>\n",
              "    <tr>\n",
              "      <th>764</th>\n",
              "      <td>2019-06-08</td>\n",
              "      <td>JASJITKAUR</td>\n",
              "      <td>-131</td>\n",
              "      <td></td>\n",
              "      <td>THE ROOMGURGAON                               ...</td>\n",
              "      <td>INR</td>\n",
              "      <td>0</td>\n",
              "      <td>Domestic</td>\n",
              "      <td>Central Park II</td>\n",
              "      <td>Gurugram</td>\n",
              "      <td>Haryana</td>\n",
              "      <td>India</td>\n",
              "      <td>Null</td>\n",
              "    </tr>\n",
              "  </tbody>\n",
              "</table>\n",
              "</div>"
            ],
            "text/plain": [
              "           Date TransactionUserName   Amount  ...    State Country New_category\n",
              "1461 2019-06-07          JASJITKAUR    -2499  ...  Haryana   India         Null\n",
              "1408 2019-06-18          JASJITKAUR    -5849  ...  Haryana   India         Null\n",
              "214  2020-01-14          JASJITKAUR      -50  ...  Haryana   India         Null\n",
              "912  2019-09-20          JASJITKAUR  -103.96  ...  Haryana   India         Null\n",
              "764  2019-06-08          JASJITKAUR     -131  ...  Haryana   India         Null\n",
              "\n",
              "[5 rows x 13 columns]"
            ]
          },
          "metadata": {
            "tags": []
          },
          "execution_count": 35
        }
      ]
    },
    {
      "cell_type": "code",
      "metadata": {
        "id": "flQTIrVoV3a5"
      },
      "source": [
        "df5.reset_index(inplace = True)"
      ],
      "execution_count": 36,
      "outputs": []
    },
    {
      "cell_type": "code",
      "metadata": {
        "id": "K95qTR9tW-S6"
      },
      "source": [
        "df5.drop(['index'], axis = 1, inplace= True)"
      ],
      "execution_count": 39,
      "outputs": []
    },
    {
      "cell_type": "code",
      "metadata": {
        "colab": {
          "base_uri": "https://localhost:8080/",
          "height": 660
        },
        "id": "Td_h_EM9W_NN",
        "outputId": "5b4fceb2-7895-4624-c309-dd96e483b88b"
      },
      "source": [
        "df5"
      ],
      "execution_count": 40,
      "outputs": [
        {
          "output_type": "execute_result",
          "data": {
            "text/html": [
              "<div>\n",
              "<style scoped>\n",
              "    .dataframe tbody tr th:only-of-type {\n",
              "        vertical-align: middle;\n",
              "    }\n",
              "\n",
              "    .dataframe tbody tr th {\n",
              "        vertical-align: top;\n",
              "    }\n",
              "\n",
              "    .dataframe thead th {\n",
              "        text-align: right;\n",
              "    }\n",
              "</style>\n",
              "<table border=\"1\" class=\"dataframe\">\n",
              "  <thead>\n",
              "    <tr style=\"text-align: right;\">\n",
              "      <th></th>\n",
              "      <th>Date</th>\n",
              "      <th>TransactionUserName</th>\n",
              "      <th>Amount</th>\n",
              "      <th>Category</th>\n",
              "      <th>Description</th>\n",
              "      <th>IsoCurrency</th>\n",
              "      <th>InternationTransactionAmount</th>\n",
              "      <th>TransactionType</th>\n",
              "      <th>Locality</th>\n",
              "      <th>City</th>\n",
              "      <th>State</th>\n",
              "      <th>Country</th>\n",
              "      <th>New_category</th>\n",
              "    </tr>\n",
              "  </thead>\n",
              "  <tbody>\n",
              "    <tr>\n",
              "      <th>0</th>\n",
              "      <td>2019-06-07</td>\n",
              "      <td>JASJITKAUR</td>\n",
              "      <td>-2499</td>\n",
              "      <td></td>\n",
              "      <td>NAIL SPA TRAINERS AND DGURGAON                ...</td>\n",
              "      <td>INR</td>\n",
              "      <td>0</td>\n",
              "      <td>Domestic</td>\n",
              "      <td>New Colony</td>\n",
              "      <td>Gurugram</td>\n",
              "      <td>Haryana</td>\n",
              "      <td>India</td>\n",
              "      <td>Null</td>\n",
              "    </tr>\n",
              "    <tr>\n",
              "      <th>1</th>\n",
              "      <td>2019-06-18</td>\n",
              "      <td>JASJITKAUR</td>\n",
              "      <td>-5849</td>\n",
              "      <td></td>\n",
              "      <td>CLARKSGURGAON                                 ...</td>\n",
              "      <td>INR</td>\n",
              "      <td>0</td>\n",
              "      <td>Domestic</td>\n",
              "      <td>DLF Phase 2</td>\n",
              "      <td>Gurugram</td>\n",
              "      <td>Haryana</td>\n",
              "      <td>India</td>\n",
              "      <td>Null</td>\n",
              "    </tr>\n",
              "    <tr>\n",
              "      <th>2</th>\n",
              "      <td>2020-01-14</td>\n",
              "      <td>JASJITKAUR</td>\n",
              "      <td>-50</td>\n",
              "      <td></td>\n",
              "      <td>THE ROOMGURGAON                               ...</td>\n",
              "      <td>INR</td>\n",
              "      <td>0</td>\n",
              "      <td>Domestic</td>\n",
              "      <td>Central Park II</td>\n",
              "      <td>Gurugram</td>\n",
              "      <td>Haryana</td>\n",
              "      <td>India</td>\n",
              "      <td>Null</td>\n",
              "    </tr>\n",
              "    <tr>\n",
              "      <th>3</th>\n",
              "      <td>2019-09-20</td>\n",
              "      <td>JASJITKAUR</td>\n",
              "      <td>-103.96</td>\n",
              "      <td></td>\n",
              "      <td>HALDIRAMGURGAON                               ...</td>\n",
              "      <td>INR</td>\n",
              "      <td>0</td>\n",
              "      <td>Domestic</td>\n",
              "      <td>Saraswati Vihar</td>\n",
              "      <td>Gurugram</td>\n",
              "      <td>Haryana</td>\n",
              "      <td>India</td>\n",
              "      <td>Null</td>\n",
              "    </tr>\n",
              "    <tr>\n",
              "      <th>4</th>\n",
              "      <td>2019-06-08</td>\n",
              "      <td>JASJITKAUR</td>\n",
              "      <td>-131</td>\n",
              "      <td></td>\n",
              "      <td>THE ROOMGURGAON                               ...</td>\n",
              "      <td>INR</td>\n",
              "      <td>0</td>\n",
              "      <td>Domestic</td>\n",
              "      <td>Central Park II</td>\n",
              "      <td>Gurugram</td>\n",
              "      <td>Haryana</td>\n",
              "      <td>India</td>\n",
              "      <td>Null</td>\n",
              "    </tr>\n",
              "    <tr>\n",
              "      <th>...</th>\n",
              "      <td>...</td>\n",
              "      <td>...</td>\n",
              "      <td>...</td>\n",
              "      <td>...</td>\n",
              "      <td>...</td>\n",
              "      <td>...</td>\n",
              "      <td>...</td>\n",
              "      <td>...</td>\n",
              "      <td>...</td>\n",
              "      <td>...</td>\n",
              "      <td>...</td>\n",
              "      <td>...</td>\n",
              "      <td>...</td>\n",
              "    </tr>\n",
              "    <tr>\n",
              "      <th>1230</th>\n",
              "      <td>2019-10-28</td>\n",
              "      <td>JASJITKAUR</td>\n",
              "      <td>-2006</td>\n",
              "      <td>other</td>\n",
              "      <td>Jai Mahal Palace LapettasJAIPUR               ...</td>\n",
              "      <td>INR</td>\n",
              "      <td>0</td>\n",
              "      <td>Domestic</td>\n",
              "      <td>Civil Lines</td>\n",
              "      <td>Jaipur</td>\n",
              "      <td>Rajasthan</td>\n",
              "      <td>India</td>\n",
              "      <td>Null</td>\n",
              "    </tr>\n",
              "    <tr>\n",
              "      <th>1231</th>\n",
              "      <td>2019-03-11</td>\n",
              "      <td>JASJITKAUR</td>\n",
              "      <td>-2023.6</td>\n",
              "      <td>other</td>\n",
              "      <td>CHANAN RAM DEWAN CHAND   GOBIND GAR           ...</td>\n",
              "      <td>INR</td>\n",
              "      <td>0</td>\n",
              "      <td>Domestic</td>\n",
              "      <td>Fatehgarh Sahib</td>\n",
              "      <td>Mandi Gobindgarh</td>\n",
              "      <td>Punjab</td>\n",
              "      <td>India</td>\n",
              "      <td>Null</td>\n",
              "    </tr>\n",
              "    <tr>\n",
              "      <th>1232</th>\n",
              "      <td>2020-02-18</td>\n",
              "      <td>JASJITKAUR</td>\n",
              "      <td>-893</td>\n",
              "      <td>other</td>\n",
              "      <td>SRI RAM MEDICO         GURGAON                ...</td>\n",
              "      <td>INR</td>\n",
              "      <td>0</td>\n",
              "      <td>Domestic</td>\n",
              "      <td>Sector 14</td>\n",
              "      <td>Gurugram</td>\n",
              "      <td>Haryana</td>\n",
              "      <td>India</td>\n",
              "      <td>Null</td>\n",
              "    </tr>\n",
              "    <tr>\n",
              "      <th>1233</th>\n",
              "      <td>2019-03-19</td>\n",
              "      <td>VIBHOREGOYAL</td>\n",
              "      <td>-225.54</td>\n",
              "      <td>other</td>\n",
              "      <td>PVR LIMITED            GURGAON                ...</td>\n",
              "      <td>INR</td>\n",
              "      <td>0</td>\n",
              "      <td>Domestic</td>\n",
              "      <td>Garden Estate</td>\n",
              "      <td>Gurugram</td>\n",
              "      <td>Haryana</td>\n",
              "      <td>India</td>\n",
              "      <td>Null</td>\n",
              "    </tr>\n",
              "    <tr>\n",
              "      <th>1234</th>\n",
              "      <td>2019-09-08</td>\n",
              "      <td>VIBHOREGOYAL</td>\n",
              "      <td>-250</td>\n",
              "      <td>other</td>\n",
              "      <td>WWW ALLEN AC IN        KOTA                   ...</td>\n",
              "      <td>INR</td>\n",
              "      <td>0</td>\n",
              "      <td>Domestic</td>\n",
              "      <td>New Rajeev Gandhi Nagar</td>\n",
              "      <td>Kota</td>\n",
              "      <td>Rajasthan</td>\n",
              "      <td>India</td>\n",
              "      <td>Null</td>\n",
              "    </tr>\n",
              "  </tbody>\n",
              "</table>\n",
              "<p>1235 rows × 13 columns</p>\n",
              "</div>"
            ],
            "text/plain": [
              "           Date TransactionUserName   Amount  ...      State Country New_category\n",
              "0    2019-06-07          JASJITKAUR    -2499  ...    Haryana   India         Null\n",
              "1    2019-06-18          JASJITKAUR    -5849  ...    Haryana   India         Null\n",
              "2    2020-01-14          JASJITKAUR      -50  ...    Haryana   India         Null\n",
              "3    2019-09-20          JASJITKAUR  -103.96  ...    Haryana   India         Null\n",
              "4    2019-06-08          JASJITKAUR     -131  ...    Haryana   India         Null\n",
              "...         ...                 ...      ...  ...        ...     ...          ...\n",
              "1230 2019-10-28          JASJITKAUR    -2006  ...  Rajasthan   India         Null\n",
              "1231 2019-03-11          JASJITKAUR  -2023.6  ...     Punjab   India         Null\n",
              "1232 2020-02-18          JASJITKAUR     -893  ...    Haryana   India         Null\n",
              "1233 2019-03-19        VIBHOREGOYAL  -225.54  ...    Haryana   India         Null\n",
              "1234 2019-09-08        VIBHOREGOYAL     -250  ...  Rajasthan   India         Null\n",
              "\n",
              "[1235 rows x 13 columns]"
            ]
          },
          "metadata": {
            "tags": []
          },
          "execution_count": 40
        }
      ]
    },
    {
      "cell_type": "code",
      "metadata": {
        "id": "W4KJNTOrZFsb"
      },
      "source": [
        "des = df5.Description.unique()\n"
      ],
      "execution_count": 47,
      "outputs": []
    },
    {
      "cell_type": "code",
      "metadata": {
        "id": "KYxD7dyvcd3l"
      },
      "source": [
        "def remove(string):\n",
        "    return string.replace(\" \", \"\")\n",
        "      \n",
        "for i in range(len(des)):\n",
        "  des[i] = des[i].capitalize()\n",
        "  des[i] = remove(des[i])"
      ],
      "execution_count": 62,
      "outputs": []
    },
    {
      "cell_type": "code",
      "metadata": {
        "id": "opr5XodAgLaX"
      },
      "source": [
        "res = []\n",
        "for i in des:\n",
        "    if i not in res:\n",
        "        res.append(i)"
      ],
      "execution_count": 64,
      "outputs": []
    },
    {
      "cell_type": "code",
      "metadata": {
        "colab": {
          "base_uri": "https://localhost:8080/"
        },
        "id": "qgBQA9mFgSYp",
        "outputId": "6aa9bdaf-6858-477f-a4b7-437a68e5abbc"
      },
      "source": [
        "len(res)"
      ],
      "execution_count": 65,
      "outputs": [
        {
          "output_type": "execute_result",
          "data": {
            "text/plain": [
              "297"
            ]
          },
          "metadata": {
            "tags": []
          },
          "execution_count": 65
        }
      ]
    },
    {
      "cell_type": "code",
      "metadata": {
        "colab": {
          "base_uri": "https://localhost:8080/"
        },
        "id": "8c5OpPS5dGtl",
        "outputId": "16a99eb8-0362-40c4-b06c-73c1b27e7851"
      },
      "source": [
        "res[300:320]"
      ],
      "execution_count": 83,
      "outputs": [
        {
          "output_type": "execute_result",
          "data": {
            "text/plain": [
              "[]"
            ]
          },
          "metadata": {
            "tags": []
          },
          "execution_count": 83
        }
      ]
    },
    {
      "cell_type": "code",
      "metadata": {
        "id": "cHgFp_xiZCob"
      },
      "source": [
        "shop = ['Redtapeshoesgurgaon','Khoslaelectronicspvtjaipur','Shreeramflowersjaipur','Lakshmanmartgurgaon','G9storegurgaon','Meenakshicollectiongurgaon','Samsunggalaxyjaipur','Tbajewelspvtltdnewdelhi','Jaswantjewellerskhanna','Mohankiranastorejaipur','Singlakaryanabhandargovindgarh','Rivieradegoauoresoarpora','Bigbazaarjaipur','Priyankawatchcollectigurgaon','Handbstoreslimitedgurgaon','Phdrahejamallgurgaon','Bobbygifthousegurdaspur','Handmhennesandmauritgurgaon','&martgurgaon','Sampurngiftsgurgaon','Orientelectrichousepnewdelhi','Pantaloonsp206gurgaon','Raniselecetiongurgaon','Thebodyshopgurgaon','Supermart49gurgaon','Suryaandcompanygurgaon','Modernmartgurgaon','Goldendragongurgaon','Krishnaelectronicsworgurgaon','Orientelectrichousenewdelhi','Tomntoysgurgaon','Flipkartpaymentsgurgaon','Flipkartpaymentsbangalore','Vinayaktradingcompanjaipur','Marksandspencerrelianewdelhi','Marksandspencerreliagurgaon','Shoppersstopltdjaipur','Amazonsellerservicesmumbai','Pay*1589corejaipur','Archieslimitedgurgaon','Fernsnpetalsprivategurgaon','Bataindialimitedgurgaon','Archieslimitedgurugram','Petalsgurgaon','Bigbazaargurgaon','Busabongandcopvtltdmumbai','Jockeygurugram','Msw*rubicreationsjaipur','Moregurgaon','Lightingprofessionalsgurgaon','Naturalsnowgurgaon','Ventotaretailminisogurgaon','Planetneedsstoregurgaon','Fashionandtrendsgurgaon','Accessorizegurgaon','Discountstoregurgaon','Kunaicmandimartgurgaon','Varietystoregurgaon','Innovativefurnituredelhi','Purehomelivinggurgaon','Paytmnoida','Ventotaretailgurgaon']\n",
        "travel = ['Jaimahalpalacelapettasjaipur','Jaimahalpalacegiardinojaipur','Jaimahalreceptionjaipur','Fuelnationgurgaon','Airasiaindianewdelhi','Hiltonjaipur','Indigogurgaon','Jaimahalpalacefrengipajaipur','Jaipurspacejaipur','Leelaambiencehotelgurugram','Freshzone24gurgaon','Tajhotelsinternationaljaipur','Tajhotelsinternationalnewdelhi','Grandhyattreceptionbambolim','Jwmarriottresortjajaipur','Eternalgangespress(pgurgaon','Wwwolacabscomgurgaon','Shayampicturepalacefatehgarh','Theleelamumbai','Jetairwaysindialtdmumbai','Tatasiaairlinesmumbai','Psebbilldeskmumbai','Bsfuelsgurgaon','Tajhotelsinternationalrajasthan','Sainikfillingstationgurgaon','Hotelhighwaykingpaota','Uberinrmumbai','Ubergurgaon','Indianrailwaycateringnewdelhi','Httpswwwirctccoinnewdelhi','Irctccorpnewdelhi','Hiltongardeninngurggurgaon','Hpclpinkcitymidwaypgurgaon','Replayjaipur','Hindustanfuelsgurgaon','Fragranceloungegurgaon','Theoberoi361rest1gurgaon','Cleartrippvtltdmumbai','Makemytripindiapvtltnewdelhi','Srinivasaresortsltd-ihyderabad','Thelalitjaipur','Nashtolevel3mumbai','1589corejaipur','Imperialrestaurantbangalore','Msw*jaleshcruisesmaumumbai','Waterstoneshotelmumbai','Westsidemohali','Ghatkoparrcitymumbai','Lifestyleintlpvtltgurgaon','Electronictollcollecmumbai','Olacabs.comgurgaon','Ucbjaipur','Lifestyleinternationajaipur','Infinityhondagurgaon','Inoxjaipurspacejaipur','Rajasthaliresorts&sjaipur','Indrprsthagasbilldeskmumbai','Lifestyleinternationagurgaon','Msw*shreegurukripaasjaipur','Pinkcitybuildhomepvtjaipur','Meersinghfuelpointgurgaon','Nimitayahotel&resortsgurgaon','Lifestyleinternationamohali','Mohaliservicestationmohali']\n",
        "food = ['Asiakitchenbymainlagurgaon','Biryaniparadisegurgaon','Paramountrestaurantsgurgaon','Tipsycaterersjaipur','Lapinopizzagurgaon','Kababrestaurantgurgaon','Wwwwdominoscoingurgaon','Coconutrestaurantjaipur','Sindhinamkeenanddrygurugram','Mcdonaldsmumbai','Starbuckscoffeegurgaon','Costacoffeekhararmohmohali','Mcdonaldsgurgaon','Dunkindonutsgurgaon','Mannatdryfruitsandgurgaon','Brewerstreetgurgaon','Ringsandthingsgurugram','Hydbaristacremehyderabad','Houseofcandyalwar','Kingcorngurgaon','Idlicomdabolim','Royalbakeryjaipur','Frontoffice1radissongurugram','Costacoffeeworldtradjaipur','Newugurgaon','Connaughtplazarestaurludhiana','Pizzahutr13rdflrambgurgaon','Subwayfatehgarh','Subwayjaipur','Annapurnafoodsgurgaon','Kfcsec47sohnaroadggurgaon','Wowmomomumbai','Burgerkingindiapvtlgurgaon','Tacobellgurgaon','Krispykremegurgaon','Haldiramproductspvtltdmohali','Tatastarbuckslimitedgurugram','Sanwariasweetspvtltdjaipur','Tatastarbuckslimitednewdelhi','Lakeforestwinegurgaon','Lakeforestwinesgurgaon','Cafecoffeedayildtrade','Cafecoffeedayninexcity','Cafecoffeedayparispoin','Thebrewhouse1radissongurugram','Omsweetspvtltdfaridabad','Baristacoffeegurgaon','Satbirfillingstationnewdelhi','Rusticfoodsllpgurgaon''Wheelyscafegurugram','Chumbakgurgaon','Bhagatmishthanbhandarjaipur','Subwaygurgaon','Keventersgurgaon','Savvygurgaon','Omsweetspvtltdgurgaon','Innerchefgurgaon','Mumusogurgaon','Starbucks-1stavenuepulaupinamyr','Haldiramdelhi','Lemarchegurgaon','Bikanervalagurgaon','Qureshiskababcornerdelhi','Paradisefoodcourtpvtgurugram']\n",
        "entertainment = ['Pvrlimitedgurgaon','Opentapgurgaon','Pvrlimitednoida','Legacyentertainmentgurgaon','Netflixentertainmentsgurgaon','Ato*thehouseoftaragurgaon','Carnivalfilmspvtltdgurgaon','Photosystembykishorgurgaon','Starcruise-inrkualalump','Kazogurgaon','Bookmyshowmumbai','Theroomgurgaon']\n",
        "selfcare = ['Looksacademyjaipur''Sairammedicosegurgaon','Reliancelifestyleholdgurgaon','Guardianhelathcareserdelhi','Adityabirlafashionandmohali','Tataskymumbai','Lasantealchemistgurgaon','Apollohospitalsenterphyderabad','Angelpharmacygurgaon','Goldenchariothospitalmumbai','Ato*guptamedicalstoregurgaon','Mychemistgurgaon','Kayaskinclinicgurgaon','Shrlifestylespvtltdnewdelhi','Hdfcstandardlifeconvmumbai','Guptapharmacygurgaon','Tanglessalongurgaon','Mother&childclinicgurgaon','Srirammedicogurgaon','Spicecommunicationgurgaon','Kpdhospitalityprivategurgaon','Grandhyattgrandclubbambolim','Tataindicom-docomomumbai','Wwwairtelinbankgurgaon','Httpswwwairtelinbangurgaon','Reliancejioinfocommlmumbai','Wwwairtelingurgaon','Sandsbeautycaregurgaon','Splashindiamohali','Cutandstylegurgaon','Mangalamchemistgurgaon','Pacificmedicaiigurgaon','Livepharmacygurgaon','Rightchemistgurgaon','Apollopharmacygurgaon','Dnapharmacygurugram','Lookssalongurgaon','Alphadentalteethtamgurgaon','Feetoesgurgaon','Starpharmacygurgaon','Nailspatrainersanddgurgaon','Globalpharmacygurgaon']\n",
        "etc = ['Wwwallenacinkota','Chananramdewanchandgobindgar','Eternalgangespresspnewdelhi','Amritsarpunjabijuttiamritsar','Httpwwwitchotelsinmumbai','Thebabystationgurgaon','Hometowngurgaon','Aliveindiagurgaon','Punambajajgurgaon','Jaipurvidyutvitranninoida','Newu47jaipur','Tlchiltondiningtelesalnewdelhi','Nirmalhandloomhousepnewdelhi','Newu29gurgaon','Ishwarjigajakwalejaipur','02spasalongurgaon','Eternalgangespressgurgaon','Tilesandconceptsgurgaon','Anayaandcogurgaon','Newu35gurgaon','Mohinifillingstationjaipur','Itckakatiyahyderabad','Themillgurugram','Bharatsancharnigamlnewdelhi','Decathlonsportsindiagurgaon','Punjabstatepowercorpatiala','Hpclautocarecentre2jaipur','Solebritygurgaon','Payupaymentspvtltd10gurgaon','Bpclshreenaveenpetrjaipur','Orientaltresalwarf15behror','Paulgurgaon','Bingegurgaon','Bingegurugram','Suvasagurugram''Saakarcreationsgurgaon','Clarksgurgaon','Vivasvatstorespvtltdgurgaon','Planetneedsgurgaon','Kettomumbai']"
      ],
      "execution_count": 130,
      "outputs": []
    },
    {
      "cell_type": "code",
      "metadata": {
        "id": "ytWe75aMXkn8"
      },
      "source": [
        "for index, row in df5.iterrows():\n",
        "  describe = row[\"Description\"]\n",
        "  describe = describe.capitalize()\n",
        "  describe = remove(describe)\n",
        "  if describe in shop:\n",
        "    row['New_category'] = \"Shopping\"\n",
        "  elif describe in travel:\n",
        "    row['New_category'] = \"Travel\"\n",
        "  elif describe in food:\n",
        "    row['New_category'] = \"Food\"\n",
        "  elif describe in entertainment:\n",
        "    row['New_category'] = \"Entertainment\"\n",
        "  elif describe in selfcare:\n",
        "    row['New_category'] = \"Self Care\"\n",
        "  else:\n",
        "    row['New_category'] = \"Others\""
      ],
      "execution_count": 131,
      "outputs": []
    },
    {
      "cell_type": "code",
      "metadata": {
        "colab": {
          "base_uri": "https://localhost:8080/",
          "height": 830
        },
        "id": "meAPXPfSaVlN",
        "outputId": "f315a072-5f2a-4b70-c8dc-ff91034d5c7c"
      },
      "source": [
        "df5"
      ],
      "execution_count": 132,
      "outputs": [
        {
          "output_type": "execute_result",
          "data": {
            "text/html": [
              "<div>\n",
              "<style scoped>\n",
              "    .dataframe tbody tr th:only-of-type {\n",
              "        vertical-align: middle;\n",
              "    }\n",
              "\n",
              "    .dataframe tbody tr th {\n",
              "        vertical-align: top;\n",
              "    }\n",
              "\n",
              "    .dataframe thead th {\n",
              "        text-align: right;\n",
              "    }\n",
              "</style>\n",
              "<table border=\"1\" class=\"dataframe\">\n",
              "  <thead>\n",
              "    <tr style=\"text-align: right;\">\n",
              "      <th></th>\n",
              "      <th>Date</th>\n",
              "      <th>TransactionUserName</th>\n",
              "      <th>Amount</th>\n",
              "      <th>Category</th>\n",
              "      <th>Description</th>\n",
              "      <th>IsoCurrency</th>\n",
              "      <th>InternationTransactionAmount</th>\n",
              "      <th>TransactionType</th>\n",
              "      <th>Locality</th>\n",
              "      <th>City</th>\n",
              "      <th>State</th>\n",
              "      <th>Country</th>\n",
              "      <th>New_category</th>\n",
              "    </tr>\n",
              "  </thead>\n",
              "  <tbody>\n",
              "    <tr>\n",
              "      <th>0</th>\n",
              "      <td>2020-01-17 00:00:00</td>\n",
              "      <td>INDUGOYAL</td>\n",
              "      <td>-442.33</td>\n",
              "      <td>Hotel brand</td>\n",
              "      <td>HILTON GARDEN INN GURGGURGAON                 ...</td>\n",
              "      <td>INR</td>\n",
              "      <td>0</td>\n",
              "      <td>Domestic</td>\n",
              "      <td>Sector 50</td>\n",
              "      <td>Gurugram</td>\n",
              "      <td>Haryana</td>\n",
              "      <td>India</td>\n",
              "      <td>Travel</td>\n",
              "    </tr>\n",
              "    <tr>\n",
              "      <th>1</th>\n",
              "      <td>2020-01-18 00:00:00</td>\n",
              "      <td>INDUGOYAL</td>\n",
              "      <td>-1516</td>\n",
              "      <td></td>\n",
              "      <td>THE ROOMGURGAON                               ...</td>\n",
              "      <td>INR</td>\n",
              "      <td>0</td>\n",
              "      <td>Domestic</td>\n",
              "      <td>Central Park II</td>\n",
              "      <td>Gurugram</td>\n",
              "      <td>Haryana</td>\n",
              "      <td>India</td>\n",
              "      <td>Entertainment</td>\n",
              "    </tr>\n",
              "    <tr>\n",
              "      <th>2</th>\n",
              "      <td>2020-01-18 00:00:00</td>\n",
              "      <td>INDUGOYAL</td>\n",
              "      <td>-144</td>\n",
              "      <td></td>\n",
              "      <td>THE ROOMGURGAON                               ...</td>\n",
              "      <td>INR</td>\n",
              "      <td>0</td>\n",
              "      <td>Domestic</td>\n",
              "      <td>Central Park II</td>\n",
              "      <td>Gurugram</td>\n",
              "      <td>Haryana</td>\n",
              "      <td>India</td>\n",
              "      <td>Entertainment</td>\n",
              "    </tr>\n",
              "    <tr>\n",
              "      <th>3</th>\n",
              "      <td>2020-01-19 00:00:00</td>\n",
              "      <td>INDUGOYAL</td>\n",
              "      <td>-50</td>\n",
              "      <td></td>\n",
              "      <td>THE ROOMGURGAON                               ...</td>\n",
              "      <td>INR</td>\n",
              "      <td>0</td>\n",
              "      <td>Domestic</td>\n",
              "      <td>Central Park II</td>\n",
              "      <td>Gurugram</td>\n",
              "      <td>Haryana</td>\n",
              "      <td>India</td>\n",
              "      <td>Entertainment</td>\n",
              "    </tr>\n",
              "    <tr>\n",
              "      <th>4</th>\n",
              "      <td>2020-01-19 00:00:00</td>\n",
              "      <td>INDUGOYAL</td>\n",
              "      <td>-50</td>\n",
              "      <td></td>\n",
              "      <td>THE ROOMGURGAON                               ...</td>\n",
              "      <td>INR</td>\n",
              "      <td>0</td>\n",
              "      <td>Domestic</td>\n",
              "      <td>Central Park II</td>\n",
              "      <td>Gurugram</td>\n",
              "      <td>Haryana</td>\n",
              "      <td>India</td>\n",
              "      <td>Entertainment</td>\n",
              "    </tr>\n",
              "    <tr>\n",
              "      <th>...</th>\n",
              "      <td>...</td>\n",
              "      <td>...</td>\n",
              "      <td>...</td>\n",
              "      <td>...</td>\n",
              "      <td>...</td>\n",
              "      <td>...</td>\n",
              "      <td>...</td>\n",
              "      <td>...</td>\n",
              "      <td>...</td>\n",
              "      <td>...</td>\n",
              "      <td>...</td>\n",
              "      <td>...</td>\n",
              "      <td>...</td>\n",
              "    </tr>\n",
              "    <tr>\n",
              "      <th>1231</th>\n",
              "      <td>2020-11-02 00:00:00</td>\n",
              "      <td>VIBHOREGOYAL</td>\n",
              "      <td>-388.57</td>\n",
              "      <td>Online food ordering company</td>\n",
              "      <td>UBER INRMUMBAI                                ...</td>\n",
              "      <td>INR</td>\n",
              "      <td>0</td>\n",
              "      <td>Domestic</td>\n",
              "      <td>Mumbai</td>\n",
              "      <td>Mumbai</td>\n",
              "      <td>Maharashtra</td>\n",
              "      <td>India</td>\n",
              "      <td>Travel</td>\n",
              "    </tr>\n",
              "    <tr>\n",
              "      <th>1232</th>\n",
              "      <td>2020-11-03 00:00:00</td>\n",
              "      <td>VIBHOREGOYAL</td>\n",
              "      <td>-37</td>\n",
              "      <td></td>\n",
              "      <td>ORIENTAL TRES ALWAR F15BEHROR                 ...</td>\n",
              "      <td>INR</td>\n",
              "      <td>0</td>\n",
              "      <td>Domestic</td>\n",
              "      <td>Alwar</td>\n",
              "      <td>Alwar</td>\n",
              "      <td>Rajasthan</td>\n",
              "      <td>India</td>\n",
              "      <td>Others</td>\n",
              "    </tr>\n",
              "    <tr>\n",
              "      <th>1233</th>\n",
              "      <td>2020-11-03 00:00:00</td>\n",
              "      <td>VIBHOREGOYAL</td>\n",
              "      <td>-1717</td>\n",
              "      <td>other</td>\n",
              "      <td>SAINIK FILLING STATION GURGAON                ...</td>\n",
              "      <td>INR</td>\n",
              "      <td>0</td>\n",
              "      <td>Domestic</td>\n",
              "      <td>Gurgaon</td>\n",
              "      <td>Gurugram</td>\n",
              "      <td>Haryana</td>\n",
              "      <td>India</td>\n",
              "      <td>Travel</td>\n",
              "    </tr>\n",
              "    <tr>\n",
              "      <th>1234</th>\n",
              "      <td>2020-12-02 00:00:00</td>\n",
              "      <td>VIBHOREGOYAL</td>\n",
              "      <td>-107.68</td>\n",
              "      <td>Online food ordering company</td>\n",
              "      <td>UBER INR                 MUMBAI               ...</td>\n",
              "      <td>INR</td>\n",
              "      <td>0</td>\n",
              "      <td>Domestic</td>\n",
              "      <td>Mumbai</td>\n",
              "      <td>Mumbai</td>\n",
              "      <td>Maharashtra</td>\n",
              "      <td>India</td>\n",
              "      <td>Travel</td>\n",
              "    </tr>\n",
              "    <tr>\n",
              "      <th>1235</th>\n",
              "      <td>2020-12-02 00:00:00</td>\n",
              "      <td>VIBHOREGOYAL</td>\n",
              "      <td>-199</td>\n",
              "      <td>other</td>\n",
              "      <td>NETFLIX ENTERTAINMENT SGURGAON                ...</td>\n",
              "      <td>INR</td>\n",
              "      <td>0</td>\n",
              "      <td>Domestic</td>\n",
              "      <td>Gurgaon</td>\n",
              "      <td>Gurugram</td>\n",
              "      <td>Haryana</td>\n",
              "      <td>India</td>\n",
              "      <td>Entertainment</td>\n",
              "    </tr>\n",
              "  </tbody>\n",
              "</table>\n",
              "<p>1236 rows × 13 columns</p>\n",
              "</div>"
            ],
            "text/plain": [
              "                     Date TransactionUserName  ... Country   New_category\n",
              "0     2020-01-17 00:00:00           INDUGOYAL  ...   India         Travel\n",
              "1     2020-01-18 00:00:00           INDUGOYAL  ...   India  Entertainment\n",
              "2     2020-01-18 00:00:00           INDUGOYAL  ...   India  Entertainment\n",
              "3     2020-01-19 00:00:00           INDUGOYAL  ...   India  Entertainment\n",
              "4     2020-01-19 00:00:00           INDUGOYAL  ...   India  Entertainment\n",
              "...                   ...                 ...  ...     ...            ...\n",
              "1231  2020-11-02 00:00:00        VIBHOREGOYAL  ...   India         Travel\n",
              "1232  2020-11-03 00:00:00        VIBHOREGOYAL  ...   India         Others\n",
              "1233  2020-11-03 00:00:00        VIBHOREGOYAL  ...   India         Travel\n",
              "1234  2020-12-02 00:00:00        VIBHOREGOYAL  ...   India         Travel\n",
              "1235  2020-12-02 00:00:00        VIBHOREGOYAL  ...   India  Entertainment\n",
              "\n",
              "[1236 rows x 13 columns]"
            ]
          },
          "metadata": {
            "tags": []
          },
          "execution_count": 132
        }
      ]
    },
    {
      "cell_type": "code",
      "metadata": {
        "colab": {
          "base_uri": "https://localhost:8080/"
        },
        "id": "SOjVinuJ5okH",
        "outputId": "3cb53b7f-c8ac-4ee0-c418-a24bc3f6780a"
      },
      "source": [
        "df7.TransactionUserName.unique()"
      ],
      "execution_count": 141,
      "outputs": [
        {
          "output_type": "execute_result",
          "data": {
            "text/plain": [
              "array(['INDUGOYAL', 'JASJITKAUR', 'VIBHOREGOYAL'], dtype=object)"
            ]
          },
          "metadata": {
            "tags": []
          },
          "execution_count": 141
        }
      ]
    },
    {
      "cell_type": "code",
      "metadata": {
        "colab": {
          "base_uri": "https://localhost:8080/"
        },
        "id": "hoEBtMnbAy8C",
        "outputId": "5e8f8edb-0088-4c7f-ad30-f59ee57c9d3c"
      },
      "source": [
        "print(df5[df5['TransactionUserName']=='Self Care'].index.values)"
      ],
      "execution_count": 134,
      "outputs": [
        {
          "output_type": "stream",
          "text": [
            "[746]\n"
          ],
          "name": "stdout"
        }
      ]
    },
    {
      "cell_type": "code",
      "metadata": {
        "id": "IGZd4-m4BP8R"
      },
      "source": [
        "df5 = df5.drop(df5.index[746])"
      ],
      "execution_count": 136,
      "outputs": []
    },
    {
      "cell_type": "code",
      "metadata": {
        "id": "udTF-rJV84Mk"
      },
      "source": [
        "df6 = df5"
      ],
      "execution_count": 138,
      "outputs": []
    },
    {
      "cell_type": "code",
      "metadata": {
        "id": "AUzLes629wXX"
      },
      "source": [
        "df6.sort_values(['TransactionUserName', 'Date'], ascending=[True, True], inplace = True)"
      ],
      "execution_count": 111,
      "outputs": []
    },
    {
      "cell_type": "code",
      "metadata": {
        "id": "wewJWa2Q-AYI"
      },
      "source": [
        "df6.reset_index(inplace = True)"
      ],
      "execution_count": 112,
      "outputs": []
    },
    {
      "cell_type": "code",
      "metadata": {
        "colab": {
          "base_uri": "https://localhost:8080/",
          "height": 216
        },
        "id": "jaenIv8Y-NpC",
        "outputId": "ca3a92b3-0a98-4e20-8465-c15104bddd5d"
      },
      "source": [
        "df6.tail(2)"
      ],
      "execution_count": 127,
      "outputs": [
        {
          "output_type": "execute_result",
          "data": {
            "text/html": [
              "<div>\n",
              "<style scoped>\n",
              "    .dataframe tbody tr th:only-of-type {\n",
              "        vertical-align: middle;\n",
              "    }\n",
              "\n",
              "    .dataframe tbody tr th {\n",
              "        vertical-align: top;\n",
              "    }\n",
              "\n",
              "    .dataframe thead th {\n",
              "        text-align: right;\n",
              "    }\n",
              "</style>\n",
              "<table border=\"1\" class=\"dataframe\">\n",
              "  <thead>\n",
              "    <tr style=\"text-align: right;\">\n",
              "      <th></th>\n",
              "      <th>Date</th>\n",
              "      <th>TransactionUserName</th>\n",
              "      <th>Amount</th>\n",
              "      <th>Category</th>\n",
              "      <th>Description</th>\n",
              "      <th>IsoCurrency</th>\n",
              "      <th>InternationTransactionAmount</th>\n",
              "      <th>TransactionType</th>\n",
              "      <th>Locality</th>\n",
              "      <th>City</th>\n",
              "      <th>State</th>\n",
              "      <th>Country</th>\n",
              "      <th>New_category</th>\n",
              "    </tr>\n",
              "  </thead>\n",
              "  <tbody>\n",
              "    <tr>\n",
              "      <th>1234</th>\n",
              "      <td>2020-12-02 00:00:00</td>\n",
              "      <td>VIBHOREGOYAL</td>\n",
              "      <td>-107.68</td>\n",
              "      <td>Online food ordering company</td>\n",
              "      <td>UBER INR                 MUMBAI               ...</td>\n",
              "      <td>INR</td>\n",
              "      <td>0</td>\n",
              "      <td>Domestic</td>\n",
              "      <td>Mumbai</td>\n",
              "      <td>Mumbai</td>\n",
              "      <td>Maharashtra</td>\n",
              "      <td>India</td>\n",
              "      <td>Travel</td>\n",
              "    </tr>\n",
              "    <tr>\n",
              "      <th>1235</th>\n",
              "      <td>2020-12-02 00:00:00</td>\n",
              "      <td>VIBHOREGOYAL</td>\n",
              "      <td>-199</td>\n",
              "      <td>other</td>\n",
              "      <td>NETFLIX ENTERTAINMENT SGURGAON                ...</td>\n",
              "      <td>INR</td>\n",
              "      <td>0</td>\n",
              "      <td>Domestic</td>\n",
              "      <td>Gurgaon</td>\n",
              "      <td>Gurugram</td>\n",
              "      <td>Haryana</td>\n",
              "      <td>India</td>\n",
              "      <td>Entertainment</td>\n",
              "    </tr>\n",
              "  </tbody>\n",
              "</table>\n",
              "</div>"
            ],
            "text/plain": [
              "                     Date TransactionUserName  ... Country   New_category\n",
              "1234  2020-12-02 00:00:00        VIBHOREGOYAL  ...   India         Travel\n",
              "1235  2020-12-02 00:00:00        VIBHOREGOYAL  ...   India  Entertainment\n",
              "\n",
              "[2 rows x 13 columns]"
            ]
          },
          "metadata": {
            "tags": []
          },
          "execution_count": 127
        }
      ]
    },
    {
      "cell_type": "code",
      "metadata": {
        "id": "1XLKjcen-PQp"
      },
      "source": [
        "df6.drop(['index'], axis = 1, inplace= True)\n",
        "df6.drop(['level_0'], axis = 1, inplace= True)"
      ],
      "execution_count": 115,
      "outputs": []
    },
    {
      "cell_type": "code",
      "metadata": {
        "colab": {
          "base_uri": "https://localhost:8080/",
          "height": 216
        },
        "id": "-K0-VCna-mSM",
        "outputId": "61a45d9a-2677-4a9d-f8d2-d7510493faa5"
      },
      "source": [
        "df6.head(2)"
      ],
      "execution_count": 116,
      "outputs": [
        {
          "output_type": "execute_result",
          "data": {
            "text/html": [
              "<div>\n",
              "<style scoped>\n",
              "    .dataframe tbody tr th:only-of-type {\n",
              "        vertical-align: middle;\n",
              "    }\n",
              "\n",
              "    .dataframe tbody tr th {\n",
              "        vertical-align: top;\n",
              "    }\n",
              "\n",
              "    .dataframe thead th {\n",
              "        text-align: right;\n",
              "    }\n",
              "</style>\n",
              "<table border=\"1\" class=\"dataframe\">\n",
              "  <thead>\n",
              "    <tr style=\"text-align: right;\">\n",
              "      <th></th>\n",
              "      <th>Date</th>\n",
              "      <th>TransactionUserName</th>\n",
              "      <th>Amount</th>\n",
              "      <th>Category</th>\n",
              "      <th>Description</th>\n",
              "      <th>IsoCurrency</th>\n",
              "      <th>InternationTransactionAmount</th>\n",
              "      <th>TransactionType</th>\n",
              "      <th>Locality</th>\n",
              "      <th>City</th>\n",
              "      <th>State</th>\n",
              "      <th>Country</th>\n",
              "      <th>New_category</th>\n",
              "    </tr>\n",
              "  </thead>\n",
              "  <tbody>\n",
              "    <tr>\n",
              "      <th>0</th>\n",
              "      <td>2020-01-17 00:00:00</td>\n",
              "      <td>INDUGOYAL</td>\n",
              "      <td>-442.33</td>\n",
              "      <td>Hotel brand</td>\n",
              "      <td>HILTON GARDEN INN GURGGURGAON                 ...</td>\n",
              "      <td>INR</td>\n",
              "      <td>0</td>\n",
              "      <td>Domestic</td>\n",
              "      <td>Sector 50</td>\n",
              "      <td>Gurugram</td>\n",
              "      <td>Haryana</td>\n",
              "      <td>India</td>\n",
              "      <td>Travel</td>\n",
              "    </tr>\n",
              "    <tr>\n",
              "      <th>1</th>\n",
              "      <td>2020-01-18 00:00:00</td>\n",
              "      <td>INDUGOYAL</td>\n",
              "      <td>-1516</td>\n",
              "      <td></td>\n",
              "      <td>THE ROOMGURGAON                               ...</td>\n",
              "      <td>INR</td>\n",
              "      <td>0</td>\n",
              "      <td>Domestic</td>\n",
              "      <td>Central Park II</td>\n",
              "      <td>Gurugram</td>\n",
              "      <td>Haryana</td>\n",
              "      <td>India</td>\n",
              "      <td>Entertainment</td>\n",
              "    </tr>\n",
              "  </tbody>\n",
              "</table>\n",
              "</div>"
            ],
            "text/plain": [
              "                  Date TransactionUserName  ... Country   New_category\n",
              "0  2020-01-17 00:00:00           INDUGOYAL  ...   India         Travel\n",
              "1  2020-01-18 00:00:00           INDUGOYAL  ...   India  Entertainment\n",
              "\n",
              "[2 rows x 13 columns]"
            ]
          },
          "metadata": {
            "tags": []
          },
          "execution_count": 116
        }
      ]
    },
    {
      "cell_type": "code",
      "metadata": {
        "id": "hWJwNCpF-oc0"
      },
      "source": [
        "df7 = df6\n"
      ],
      "execution_count": 140,
      "outputs": []
    },
    {
      "cell_type": "code",
      "metadata": {
        "colab": {
          "base_uri": "https://localhost:8080/",
          "height": 216
        },
        "id": "dN7QyMsV_jdC",
        "outputId": "2b5cdf91-ac75-407e-aca7-829b41b9b00f"
      },
      "source": [
        "df7.tail(2)"
      ],
      "execution_count": 126,
      "outputs": [
        {
          "output_type": "execute_result",
          "data": {
            "text/html": [
              "<div>\n",
              "<style scoped>\n",
              "    .dataframe tbody tr th:only-of-type {\n",
              "        vertical-align: middle;\n",
              "    }\n",
              "\n",
              "    .dataframe tbody tr th {\n",
              "        vertical-align: top;\n",
              "    }\n",
              "\n",
              "    .dataframe thead th {\n",
              "        text-align: right;\n",
              "    }\n",
              "</style>\n",
              "<table border=\"1\" class=\"dataframe\">\n",
              "  <thead>\n",
              "    <tr style=\"text-align: right;\">\n",
              "      <th></th>\n",
              "      <th>Date</th>\n",
              "      <th>TransactionUserName</th>\n",
              "      <th>Amount</th>\n",
              "      <th>Category</th>\n",
              "      <th>Description</th>\n",
              "      <th>IsoCurrency</th>\n",
              "      <th>InternationTransactionAmount</th>\n",
              "      <th>TransactionType</th>\n",
              "      <th>Locality</th>\n",
              "      <th>City</th>\n",
              "      <th>State</th>\n",
              "      <th>Country</th>\n",
              "      <th>New_category</th>\n",
              "    </tr>\n",
              "  </thead>\n",
              "  <tbody>\n",
              "    <tr>\n",
              "      <th>1234</th>\n",
              "      <td>2020-12-02 00:00:00</td>\n",
              "      <td>VIBHOREGOYAL</td>\n",
              "      <td>-107.68</td>\n",
              "      <td>Online food ordering company</td>\n",
              "      <td>UBER INR                 MUMBAI               ...</td>\n",
              "      <td>INR</td>\n",
              "      <td>0</td>\n",
              "      <td>Domestic</td>\n",
              "      <td>Mumbai</td>\n",
              "      <td>Mumbai</td>\n",
              "      <td>Maharashtra</td>\n",
              "      <td>India</td>\n",
              "      <td>Travel</td>\n",
              "    </tr>\n",
              "    <tr>\n",
              "      <th>1235</th>\n",
              "      <td>2020-12-02 00:00:00</td>\n",
              "      <td>VIBHOREGOYAL</td>\n",
              "      <td>-199</td>\n",
              "      <td>other</td>\n",
              "      <td>NETFLIX ENTERTAINMENT SGURGAON                ...</td>\n",
              "      <td>INR</td>\n",
              "      <td>0</td>\n",
              "      <td>Domestic</td>\n",
              "      <td>Gurgaon</td>\n",
              "      <td>Gurugram</td>\n",
              "      <td>Haryana</td>\n",
              "      <td>India</td>\n",
              "      <td>Entertainment</td>\n",
              "    </tr>\n",
              "  </tbody>\n",
              "</table>\n",
              "</div>"
            ],
            "text/plain": [
              "                     Date TransactionUserName  ... Country   New_category\n",
              "1234  2020-12-02 00:00:00        VIBHOREGOYAL  ...   India         Travel\n",
              "1235  2020-12-02 00:00:00        VIBHOREGOYAL  ...   India  Entertainment\n",
              "\n",
              "[2 rows x 13 columns]"
            ]
          },
          "metadata": {
            "tags": []
          },
          "execution_count": 126
        }
      ]
    },
    {
      "cell_type": "code",
      "metadata": {
        "colab": {
          "base_uri": "https://localhost:8080/",
          "height": 779
        },
        "id": "JugLGQxQ_I95",
        "outputId": "f94fc283-534f-4dd9-c815-41d213850350"
      },
      "source": [
        "df7.head(100)"
      ],
      "execution_count": 144,
      "outputs": [
        {
          "output_type": "execute_result",
          "data": {
            "text/html": [
              "<div>\n",
              "<style scoped>\n",
              "    .dataframe tbody tr th:only-of-type {\n",
              "        vertical-align: middle;\n",
              "    }\n",
              "\n",
              "    .dataframe tbody tr th {\n",
              "        vertical-align: top;\n",
              "    }\n",
              "\n",
              "    .dataframe thead th {\n",
              "        text-align: right;\n",
              "    }\n",
              "</style>\n",
              "<table border=\"1\" class=\"dataframe\">\n",
              "  <thead>\n",
              "    <tr style=\"text-align: right;\">\n",
              "      <th></th>\n",
              "      <th>Date</th>\n",
              "      <th>TransactionUserName</th>\n",
              "      <th>Amount</th>\n",
              "      <th>Category</th>\n",
              "      <th>Description</th>\n",
              "      <th>IsoCurrency</th>\n",
              "      <th>InternationTransactionAmount</th>\n",
              "      <th>TransactionType</th>\n",
              "      <th>Locality</th>\n",
              "      <th>City</th>\n",
              "      <th>State</th>\n",
              "      <th>Country</th>\n",
              "      <th>New_category</th>\n",
              "    </tr>\n",
              "  </thead>\n",
              "  <tbody>\n",
              "    <tr>\n",
              "      <th>0</th>\n",
              "      <td>2020-01-17 00:00:00</td>\n",
              "      <td>INDUGOYAL</td>\n",
              "      <td>-442.33</td>\n",
              "      <td>Hotel brand</td>\n",
              "      <td>HILTON GARDEN INN GURGGURGAON                 ...</td>\n",
              "      <td>INR</td>\n",
              "      <td>0</td>\n",
              "      <td>Domestic</td>\n",
              "      <td>Sector 50</td>\n",
              "      <td>Gurugram</td>\n",
              "      <td>Haryana</td>\n",
              "      <td>India</td>\n",
              "      <td>Travel</td>\n",
              "    </tr>\n",
              "    <tr>\n",
              "      <th>1</th>\n",
              "      <td>2020-01-18 00:00:00</td>\n",
              "      <td>INDUGOYAL</td>\n",
              "      <td>-1516</td>\n",
              "      <td></td>\n",
              "      <td>THE ROOMGURGAON                               ...</td>\n",
              "      <td>INR</td>\n",
              "      <td>0</td>\n",
              "      <td>Domestic</td>\n",
              "      <td>Central Park II</td>\n",
              "      <td>Gurugram</td>\n",
              "      <td>Haryana</td>\n",
              "      <td>India</td>\n",
              "      <td>Entertainment</td>\n",
              "    </tr>\n",
              "    <tr>\n",
              "      <th>2</th>\n",
              "      <td>2020-01-18 00:00:00</td>\n",
              "      <td>INDUGOYAL</td>\n",
              "      <td>-144</td>\n",
              "      <td></td>\n",
              "      <td>THE ROOMGURGAON                               ...</td>\n",
              "      <td>INR</td>\n",
              "      <td>0</td>\n",
              "      <td>Domestic</td>\n",
              "      <td>Central Park II</td>\n",
              "      <td>Gurugram</td>\n",
              "      <td>Haryana</td>\n",
              "      <td>India</td>\n",
              "      <td>Entertainment</td>\n",
              "    </tr>\n",
              "    <tr>\n",
              "      <th>3</th>\n",
              "      <td>2020-01-19 00:00:00</td>\n",
              "      <td>INDUGOYAL</td>\n",
              "      <td>-50</td>\n",
              "      <td></td>\n",
              "      <td>THE ROOMGURGAON                               ...</td>\n",
              "      <td>INR</td>\n",
              "      <td>0</td>\n",
              "      <td>Domestic</td>\n",
              "      <td>Central Park II</td>\n",
              "      <td>Gurugram</td>\n",
              "      <td>Haryana</td>\n",
              "      <td>India</td>\n",
              "      <td>Entertainment</td>\n",
              "    </tr>\n",
              "    <tr>\n",
              "      <th>4</th>\n",
              "      <td>2020-01-19 00:00:00</td>\n",
              "      <td>INDUGOYAL</td>\n",
              "      <td>-50</td>\n",
              "      <td></td>\n",
              "      <td>THE ROOMGURGAON                               ...</td>\n",
              "      <td>INR</td>\n",
              "      <td>0</td>\n",
              "      <td>Domestic</td>\n",
              "      <td>Central Park II</td>\n",
              "      <td>Gurugram</td>\n",
              "      <td>Haryana</td>\n",
              "      <td>India</td>\n",
              "      <td>Entertainment</td>\n",
              "    </tr>\n",
              "    <tr>\n",
              "      <th>...</th>\n",
              "      <td>...</td>\n",
              "      <td>...</td>\n",
              "      <td>...</td>\n",
              "      <td>...</td>\n",
              "      <td>...</td>\n",
              "      <td>...</td>\n",
              "      <td>...</td>\n",
              "      <td>...</td>\n",
              "      <td>...</td>\n",
              "      <td>...</td>\n",
              "      <td>...</td>\n",
              "      <td>...</td>\n",
              "      <td>...</td>\n",
              "    </tr>\n",
              "    <tr>\n",
              "      <th>95</th>\n",
              "      <td>2019-01-19 00:00:00</td>\n",
              "      <td>JASJITKAUR</td>\n",
              "      <td>-284</td>\n",
              "      <td>Massif in Nepal</td>\n",
              "      <td>ANNAPURNA FOODSGURGAON                        ...</td>\n",
              "      <td>INR</td>\n",
              "      <td>0</td>\n",
              "      <td>Domestic</td>\n",
              "      <td>Sikanderpur</td>\n",
              "      <td>Gurugram</td>\n",
              "      <td>Haryana</td>\n",
              "      <td>India</td>\n",
              "      <td>Food</td>\n",
              "    </tr>\n",
              "    <tr>\n",
              "      <th>96</th>\n",
              "      <td>2019-01-19 00:00:00</td>\n",
              "      <td>JASJITKAUR</td>\n",
              "      <td>-905</td>\n",
              "      <td>other</td>\n",
              "      <td>GOLDEN DRAGONGURGAON                          ...</td>\n",
              "      <td>INR</td>\n",
              "      <td>0</td>\n",
              "      <td>Domestic</td>\n",
              "      <td>A Block</td>\n",
              "      <td>Gurugram</td>\n",
              "      <td>Haryana</td>\n",
              "      <td>India</td>\n",
              "      <td>Shopping</td>\n",
              "    </tr>\n",
              "    <tr>\n",
              "      <th>97</th>\n",
              "      <td>2019-01-20 00:00:00</td>\n",
              "      <td>JASJITKAUR</td>\n",
              "      <td>-1480</td>\n",
              "      <td>American television program</td>\n",
              "      <td>LIVE PHARMACYGURGAON                          ...</td>\n",
              "      <td>INR</td>\n",
              "      <td>0</td>\n",
              "      <td>Domestic</td>\n",
              "      <td>Pocket C</td>\n",
              "      <td>Gurugram</td>\n",
              "      <td>Haryana</td>\n",
              "      <td>India</td>\n",
              "      <td>Self Care</td>\n",
              "    </tr>\n",
              "    <tr>\n",
              "      <th>98</th>\n",
              "      <td>2019-01-20 00:00:00</td>\n",
              "      <td>JASJITKAUR</td>\n",
              "      <td>-1536.36</td>\n",
              "      <td>Hotel brand</td>\n",
              "      <td>HILTON GARDEN INN GURGGURGAON                 ...</td>\n",
              "      <td>INR</td>\n",
              "      <td>0</td>\n",
              "      <td>Domestic</td>\n",
              "      <td>Sector 50</td>\n",
              "      <td>Gurugram</td>\n",
              "      <td>Haryana</td>\n",
              "      <td>India</td>\n",
              "      <td>Travel</td>\n",
              "    </tr>\n",
              "    <tr>\n",
              "      <th>99</th>\n",
              "      <td>2019-01-21 00:00:00</td>\n",
              "      <td>JASJITKAUR</td>\n",
              "      <td>-112</td>\n",
              "      <td></td>\n",
              "      <td>THE ROOMGURGAON                               ...</td>\n",
              "      <td>INR</td>\n",
              "      <td>0</td>\n",
              "      <td>Domestic</td>\n",
              "      <td>Central Park II</td>\n",
              "      <td>Gurugram</td>\n",
              "      <td>Haryana</td>\n",
              "      <td>India</td>\n",
              "      <td>Entertainment</td>\n",
              "    </tr>\n",
              "  </tbody>\n",
              "</table>\n",
              "<p>100 rows × 13 columns</p>\n",
              "</div>"
            ],
            "text/plain": [
              "                   Date TransactionUserName  ... Country   New_category\n",
              "0   2020-01-17 00:00:00           INDUGOYAL  ...   India         Travel\n",
              "1   2020-01-18 00:00:00           INDUGOYAL  ...   India  Entertainment\n",
              "2   2020-01-18 00:00:00           INDUGOYAL  ...   India  Entertainment\n",
              "3   2020-01-19 00:00:00           INDUGOYAL  ...   India  Entertainment\n",
              "4   2020-01-19 00:00:00           INDUGOYAL  ...   India  Entertainment\n",
              "..                  ...                 ...  ...     ...            ...\n",
              "95  2019-01-19 00:00:00          JASJITKAUR  ...   India           Food\n",
              "96  2019-01-19 00:00:00          JASJITKAUR  ...   India       Shopping\n",
              "97  2019-01-20 00:00:00          JASJITKAUR  ...   India      Self Care\n",
              "98  2019-01-20 00:00:00          JASJITKAUR  ...   India         Travel\n",
              "99  2019-01-21 00:00:00          JASJITKAUR  ...   India  Entertainment\n",
              "\n",
              "[100 rows x 13 columns]"
            ]
          },
          "metadata": {
            "tags": []
          },
          "execution_count": 144
        }
      ]
    },
    {
      "cell_type": "code",
      "metadata": {
        "id": "rmAb1SDSCFMU"
      },
      "source": [
        "df7.to_csv('Onebanc.csv')"
      ],
      "execution_count": 145,
      "outputs": []
    },
    {
      "cell_type": "code",
      "metadata": {
        "id": "4E9Hr5yMCUXa"
      },
      "source": [
        ""
      ],
      "execution_count": null,
      "outputs": []
    }
  ]
}